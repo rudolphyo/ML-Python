{
 "cells": [
  {
   "cell_type": "markdown",
   "metadata": {
    "deletable": true,
    "editable": true
   },
   "source": [
    "### Лайко Рудольф\n",
    "#### Лабораторная работа 1. Вариант 12\n",
    "##### Задание 1.1.12\n",
    "* Исходный ряд:\n",
    "$$144\\sum_{n=0}^{\\infty}\\dfrac{1}{5(n^2 + 6n + 8)} $$\n",
    "\n",
    "\n",
    "\n",
    "* Аналитически вычислим частичные суммы $S_N = 144\\sum_{n=0}^{N}\\dfrac{1}{5(n^2 + 6n + 8)}$ при $N = 10, 10^2, 10^3, 10^4, 10^5$:\n",
    "\n",
    "\n",
    "$$144\\sum_{n=0}^{N}\\dfrac{1}{5(n^2 + 6n + 8)} = \\dfrac{144}{5}\\sum_{n=0}^{N}\\dfrac{1}{(n+4)(n+2)} = \\dfrac{144}{10}\\sum_{n=0}^{N}\\left(\\dfrac{1}{n+2} - \\dfrac{1}{n+4}\\right) = \\dfrac{144}{10}\\left(\\dfrac{1}{2} + \\dfrac{1}{3} -\\dfrac{1}{N+1} - \\dfrac{1}{N+2}\\right)$$\n",
    "\n",
    "$$S= lim_{N\\rightarrow+\\infty} S_N = 12$$\n",
    "\n",
    "\n",
    "* С помощью функции *sum_series(series, correct)* выведем частичные суммы ряда при разных N и посмотрим на величину абсолютной ошибки $|S(N) - S|$ \n",
    "* Сам ряд объявлен с помощью анонимной(lambda) функции *my_series*\n",
    "* Согласно определению верной цифры, функция *get_digit* определеяет ее по величине абсолютной погрешности _error_ - единственного аргумента\n",
    "* Представим результаты в виде таблицы и отобразим на гистограмме"
   ]
  },
  {
   "cell_type": "code",
   "execution_count": 112,
   "metadata": {
    "collapsed": false,
    "deletable": true,
    "editable": true
   },
   "outputs": [],
   "source": [
    "import numpy as np\n",
    "import pandas as pd\n",
    "import matplotlib.pylab as plt\n",
    "import math \n",
    "import itertools\n",
    "\n",
    "plt.style.use(\"ggplot\")\n",
    "%matplotlib inline"
   ]
  },
  {
   "cell_type": "code",
   "execution_count": 21,
   "metadata": {
    "collapsed": false,
    "deletable": true,
    "editable": true
   },
   "outputs": [],
   "source": [
    "my_series = lambda x: 144/(5*(x**2 + 6*x + 8))\n",
    "\n",
    "def sum_series(series, N_s, correct):\n",
    "    \n",
    "    sums = []\n",
    "    errors = []\n",
    "    true_digits = []\n",
    "    \n",
    "    for i in N_s:\n",
    "        sum_N =  np.sum([series(n) for n in range(i)])\n",
    "        sums.append(sum_N)\n",
    "        \n",
    "        error_N = abs(correct - sum_N)\n",
    "        errors.append(error_N)\n",
    "        \n",
    "        true_digits.append(get_digit(error_N))\n",
    "        \n",
    "        \"\"\"\n",
    "        print(\"Частичная сумма ряда при N={}: {}\".format(i, sum_N))\n",
    "        print(\"Aбсолютная погрешность: {}\\n\".format(error_N))\n",
    "        \"\"\"\n",
    "        \n",
    "    return sums, errors, true_digits\n",
    "    \n",
    "        \n",
    "def get_digit(error):\n",
    "    \n",
    "    \"\"\"\n",
    "    Значащую цифру числа называют верной, если абсолютная погрешность числа не превосходит единицы\n",
    "    разряда, соответствующего этой цифре. \n",
    "    \"\"\"\n",
    "    true_dig = 0\n",
    "    degree = 1.0\n",
    "    while (degree > -10):\n",
    "        \"\"\"\n",
    "        Проверим единицу разряда\n",
    "        \"\"\"\n",
    "        if (error < np.power(10, degree)):\n",
    "            true_dig += 1\n",
    "            degree -= 1\n",
    "        else:\n",
    "             return true_dig\n",
    "            \n",
    "    return None"
   ]
  },
  {
   "cell_type": "code",
   "execution_count": 22,
   "metadata": {
    "collapsed": false,
    "deletable": true,
    "editable": true
   },
   "outputs": [
    {
     "data": {
      "text/html": [
       "<div>\n",
       "<table border=\"1\" class=\"dataframe\">\n",
       "  <thead>\n",
       "    <tr style=\"text-align: right;\">\n",
       "      <th></th>\n",
       "      <th>N</th>\n",
       "      <th>Partial summations</th>\n",
       "      <th>Absolut errors</th>\n",
       "      <th>True digits</th>\n",
       "    </tr>\n",
       "  </thead>\n",
       "  <tbody>\n",
       "    <tr>\n",
       "      <th>0</th>\n",
       "      <td>10</td>\n",
       "      <td>9.692308</td>\n",
       "      <td>2.307692</td>\n",
       "      <td>1</td>\n",
       "    </tr>\n",
       "    <tr>\n",
       "      <th>1</th>\n",
       "      <td>100</td>\n",
       "      <td>11.719018</td>\n",
       "      <td>0.280982</td>\n",
       "      <td>2</td>\n",
       "    </tr>\n",
       "    <tr>\n",
       "      <th>2</th>\n",
       "      <td>1000</td>\n",
       "      <td>11.971272</td>\n",
       "      <td>0.028728</td>\n",
       "      <td>3</td>\n",
       "    </tr>\n",
       "    <tr>\n",
       "      <th>3</th>\n",
       "      <td>10000</td>\n",
       "      <td>11.997121</td>\n",
       "      <td>0.002879</td>\n",
       "      <td>4</td>\n",
       "    </tr>\n",
       "    <tr>\n",
       "      <th>4</th>\n",
       "      <td>100000</td>\n",
       "      <td>11.999712</td>\n",
       "      <td>0.000288</td>\n",
       "      <td>5</td>\n",
       "    </tr>\n",
       "  </tbody>\n",
       "</table>\n",
       "</div>"
      ],
      "text/plain": [
       "        N  Partial summations  Absolut errors  True digits\n",
       "0      10            9.692308        2.307692            1\n",
       "1     100           11.719018        0.280982            2\n",
       "2    1000           11.971272        0.028728            3\n",
       "3   10000           11.997121        0.002879            4\n",
       "4  100000           11.999712        0.000288            5"
      ]
     },
     "execution_count": 22,
     "metadata": {},
     "output_type": "execute_result"
    }
   ],
   "source": [
    "N = [10, 10**2, 10**3, 10**4, 10**5]\n",
    "correct_sum = 12\n",
    "\n",
    "part_sums, abs_erorrs, true_digits = sum_series(my_series, N, correct_sum)\n",
    "\n",
    "results = pd.DataFrame()\n",
    "results[\"N\"] = N\n",
    "results[\"Partial summations\"] = part_sums\n",
    "results[\"Absolut errors\"] = abs_erorrs\n",
    "results[\"True digits\"] = true_digits\n",
    "results"
   ]
  },
  {
   "cell_type": "code",
   "execution_count": 47,
   "metadata": {
    "collapsed": false,
    "deletable": true,
    "editable": true
   },
   "outputs": [
    {
     "data": {
      "image/png": "[encoded data removed]",
      "text/plain": [
       "<matplotlib.figure.Figure at 0x10ff412e8>"
      ]
     },
     "metadata": {},
     "output_type": "display_data"
    }
   ],
   "source": [
    "plt.figure(figsize=(12, 8))\n",
    "plt.title(\"Number of true digits per N\")\n",
    "\n",
    "plt.xlabel(\"First $N$ terms of series\")\n",
    "plt.ylabel(\"Number of true digits\")\n",
    "plt.bar(range(len(true_digits)), true_digits, alpha = 0.6)\n",
    "xx = plt.xticks(range(len(N)), list(map(str, N)))"
   ]
  },
  {
   "cell_type": "markdown",
   "metadata": {
    "deletable": true,
    "editable": true
   },
   "source": [
    "### Вывод\n",
    "----\n",
    "* как видно из таблицы и графика выше, при увеличении числа членов ряда в 10 раз, количество верных цифр *увеличивается* на одну\n",
    "\n",
    "---\n",
    "\n",
    "#### Задание 1.8\n",
    "\n",
    "Составить программу, моделирующую вычисления на ЭВМ с ограниченной разрядностью $m$.\n",
    "Решить задачу 1.1 для случая $N =10000$ , используя эту программу. Составить график зависимости\n",
    "погрешности от количества разрядов $m=4,5,…,8$.\n",
    "\n",
    "* Исходный ряд:\n",
    "$$144\\sum_{n=0}^{\\infty}\\dfrac{1}{5(n^2 + 6n + 8)} $$\n",
    "\n",
    "* будем \"эмулировать\" вычисленитя на такой ЭВМ с помощью функции *num_sum()*, в которой будем просто обрезать вычисленной число согласно разряду\n",
    "* на каждой итерации будем считать элемент частичной суммы согласно формуле, затем представим результат как произведение мантиссы и степени двойки, обрежем мантиссу на необходимое количество(разряд)"
   ]
  },
  {
   "cell_type": "code",
   "execution_count": 66,
   "metadata": {
    "collapsed": true,
    "deletable": true,
    "editable": true
   },
   "outputs": [],
   "source": [
    "def get_relative_err(exact_sum, not_exact):\n",
    "    return abs((not_exact - exact_sum) / exact_sum)\n",
    "\n",
    "def get_abs_err(exact_sum, not_exact):\n",
    "    return abs(exact_sum - not_exact)\n",
    "\n",
    "def num_sum(n, digit):\n",
    "    cur_sum = 0\n",
    "    for i in range(0,n+1):\n",
    "        cur_elem = my_series(i)\n",
    "        mantissa, exp = math.frexp(cur_elem)\n",
    "        digits = str(mantissa)[:digit+2]\n",
    "        cur_elem = float(digits)*2**exp\n",
    "        cur_sum += cur_elem\n",
    "    return cur_sum"
   ]
  },
  {
   "cell_type": "code",
   "execution_count": 68,
   "metadata": {
    "collapsed": false,
    "deletable": true,
    "editable": true
   },
   "outputs": [],
   "source": [
    "N = 10000\n",
    "sum_1e5 =  np.sum([my_series(n) for n in range(N)])\n",
    "\n",
    "digit = range(4, 9)\n",
    "absolute_err = []\n",
    "relative_err = []\n",
    "values = []\n",
    "results = pd.DataFrame()\n",
    "\n",
    "for i in digit:\n",
    "    cur_sum = mysum(N, i)\n",
    "    cur_rel_err = get_relative_err(sum_1e5, cur_sum)\n",
    "    cur_abs_err = get_abs_err(sum_1e5, cur_sum)\n",
    "    \n",
    "    absolute_err.append(cur_abs_err)\n",
    "    relative_err.append(cur_rel_err)\n",
    "    values.append(cur_sum)\n",
    "    \n",
    "results[\"Digit (m)\"] = digit\n",
    "results[\"Partial sum with m digits\"] = values\n",
    "results[\"Absolute errors\"] = absolute_err\n",
    "results[\"Relative errors\"] = relative_err"
   ]
  },
  {
   "cell_type": "code",
   "execution_count": 69,
   "metadata": {
    "collapsed": false,
    "deletable": true,
    "editable": true
   },
   "outputs": [
    {
     "data": {
      "text/html": [
       "<div>\n",
       "<table border=\"1\" class=\"dataframe\">\n",
       "  <thead>\n",
       "    <tr style=\"text-align: right;\">\n",
       "      <th></th>\n",
       "      <th>Digit (m)</th>\n",
       "      <th>Partial sum with m digits</th>\n",
       "      <th>Absolute errors</th>\n",
       "      <th>Relative errors</th>\n",
       "    </tr>\n",
       "  </thead>\n",
       "  <tbody>\n",
       "    <tr>\n",
       "      <th>0</th>\n",
       "      <td>4</td>\n",
       "      <td>11.996835</td>\n",
       "      <td>2.859106e-04</td>\n",
       "      <td>2.383160e-05</td>\n",
       "    </tr>\n",
       "    <tr>\n",
       "      <th>1</th>\n",
       "      <td>5</td>\n",
       "      <td>11.997089</td>\n",
       "      <td>3.149983e-05</td>\n",
       "      <td>2.625616e-06</td>\n",
       "    </tr>\n",
       "    <tr>\n",
       "      <th>2</th>\n",
       "      <td>6</td>\n",
       "      <td>11.997119</td>\n",
       "      <td>1.803089e-06</td>\n",
       "      <td>1.502934e-07</td>\n",
       "    </tr>\n",
       "    <tr>\n",
       "      <th>3</th>\n",
       "      <td>7</td>\n",
       "      <td>11.997121</td>\n",
       "      <td>5.218987e-08</td>\n",
       "      <td>4.350200e-09</td>\n",
       "    </tr>\n",
       "    <tr>\n",
       "      <th>4</th>\n",
       "      <td>8</td>\n",
       "      <td>11.997121</td>\n",
       "      <td>2.659397e-07</td>\n",
       "      <td>2.216696e-08</td>\n",
       "    </tr>\n",
       "  </tbody>\n",
       "</table>\n",
       "</div>"
      ],
      "text/plain": [
       "   Digit (m)  Partial sum with m digits  Absolute errors  Relative errors\n",
       "0          4                  11.996835     2.859106e-04     2.383160e-05\n",
       "1          5                  11.997089     3.149983e-05     2.625616e-06\n",
       "2          6                  11.997119     1.803089e-06     1.502934e-07\n",
       "3          7                  11.997121     5.218987e-08     4.350200e-09\n",
       "4          8                  11.997121     2.659397e-07     2.216696e-08"
      ]
     },
     "execution_count": 69,
     "metadata": {},
     "output_type": "execute_result"
    }
   ],
   "source": [
    "results"
   ]
  },
  {
   "cell_type": "code",
   "execution_count": 87,
   "metadata": {
    "collapsed": false,
    "deletable": true,
    "editable": true
   },
   "outputs": [
    {
     "data": {
      "text/plain": [
       "<matplotlib.text.Text at 0x10af561d0>"
      ]
     },
     "execution_count": 87,
     "metadata": {},
     "output_type": "execute_result"
    },
    {
     "data": {
      "image/png": "[encoded data removed]",
      "text/plain": [
       "<matplotlib.figure.Figure at 0x10ae45940>"
      ]
     },
     "metadata": {},
     "output_type": "display_data"
    }
   ],
   "source": [
    "plt.figure(figsize=(12, 8))\n",
    "plt.title(\"Зависимость абсолютной ошибки от разряда\")\n",
    "plt.plot(digit, absolute_err, '-s')\n",
    "plt.xticks(digit)\n",
    "plt.xlabel(\"Количество разрядов $m$\")\n",
    "plt.ylabel(\"Абсолютная ошибка\")"
   ]
  },
  {
   "cell_type": "code",
   "execution_count": 90,
   "metadata": {
    "collapsed": false,
    "deletable": true,
    "editable": true
   },
   "outputs": [
    {
     "data": {
      "text/plain": [
       "<matplotlib.text.Text at 0x1115c19b0>"
      ]
     },
     "execution_count": 90,
     "metadata": {},
     "output_type": "execute_result"
    },
    {
     "data": {
      "image/png": "[encoded data removed]",
      "text/plain": [
       "<matplotlib.figure.Figure at 0x111816a90>"
      ]
     },
     "metadata": {},
     "output_type": "display_data"
    }
   ],
   "source": [
    "plt.figure(figsize=(12, 8))\n",
    "plt.title(\"Зависимость относительной ошибки от разряда\")\n",
    "plt.plot(digit, relative_err, '-o')\n",
    "plt.xticks(digit)\n",
    "plt.xlabel(\"Количество разрядов $m$\")\n",
    "plt.ylabel(\"Относительная ошибка\")"
   ]
  },
  {
   "cell_type": "markdown",
   "metadata": {
    "deletable": true,
    "editable": true
   },
   "source": [
    "### Задание 1.5.3\n",
    "\n",
    "* Дано квадратное уравнение $x^2 + bx + c = 0$. Предполагается, что один из коэффициентов уравнения (в индивидуальном варианте помечен) получен в результате округления. Произвести теоретическуюоценку погрешностей корней в зависимости от погрешности коэффициента. Вычислить корни уравнения принескольких различных значениях коэффициента в пределах заданной точности. Сравнить полученные результаты.\n",
    "\n",
    "$b^* = 37.4, c = 187.65$\n",
    "\n",
    "$ x_1 = \\dfrac{-b + \\sqrt{D}}{2} $ , \n",
    "$ x_2 = \\dfrac{-b - \\sqrt{D}}{2} $\n",
    "\n",
    "где $D = b^2 - 4ac$\n",
    "\n",
    "Согласно теореме Виетта, корни уравнения связаны следующим образом : $x_1 + x_2 = -b; x_1*x_2 = c$\n",
    "То есть можем найти корни: $D \\approx b^{*2} - 4c \\approx  25,46^2$\n",
    "\n",
    "$x_2^* = -\\dfrac{37.40 + 25.46}{2} = -31.43$\n",
    "\n",
    "\n",
    "$x_1^* = \\dfrac{c}{x_2} = -5.97$\n",
    "\n",
    "Для оценки погрешностей, воспользуемся формулой : \n",
    "\n",
    "$\\sigma(y^*) = \\sum_{j=1}^{m}\\mu_j^{*}\\sigma(x_j^*)$\n",
    "\n",
    "$\\mu_j^* = \\dfrac{|x_j^*||r'_{x_j}(x^*)|}{|r_{x_j}(x^*)|}$\n",
    "где $r_{x_1}(b, c) = \\dfrac{-b + \\sqrt{b^2 - 4ac}}{2}$;\n",
    "$r_{x_2}(b, c) = \\dfrac{-b - \\sqrt{b^2 - 4ac}}{2}$\n",
    "\n",
    "$\\sigma(x_1^{*}) = \\mu_1^*\\sigma(b^*),$  $\\mu_1^* = \\dfrac{|b^*||r'_{x1}(b, c)|}{|x_1^*|}$\n",
    "\n",
    "$\\sigma(x_2^{*}) = \\mu_2^*\\sigma(b^*),$  $\\mu_2^* = \\dfrac{|b^*||r'_{x2}(b, c)|}{|x_2^*|}$\n",
    "\n",
    "\n",
    "$r'_{x_1}(b, c) = \\dfrac{-1 + \\dfrac{b}{\\sqrt{D}}}{2} = 0.2345$\n",
    "\n",
    "\n",
    "$r'_{x_2}(b, c) = -\\dfrac{1 + \\dfrac{b}{\\sqrt{D}}}{2} = \\dfrac{x_2^*}{\\sqrt{D}} = -1.2345$\n",
    "\n",
    "\n",
    "\n",
    "\n",
    "$\\mu_1^* = 1.34$ , $\\mu_2^* = 1.46$\n",
    "\n",
    "$\\sigma_{x_1^*} = \\sigma(b^*) * 1.34 = $;\n",
    "$\\sigma_{x_2^*} = \\sigma(b^*) * 1.46$\n",
    "\n",
    "\n",
    "* Ответ: \n",
    "\n",
    "$x_1 = -5.97(1\\pm0.1\\%)$\n",
    "\n",
    "\n",
    "$x_2 = -31.43(1\\pm0.1\\%)$\n"
   ]
  },
  {
   "cell_type": "markdown",
   "metadata": {
    "deletable": true,
    "editable": true
   },
   "source": [
    "### Задание 1.7\n",
    "\n",
    "* Вычислить значения машинного нуля, машинной бесконечности, машинного эпсилон в режимах одинарной и двойной точности на алгоритмическом языке."
   ]
  },
  {
   "cell_type": "code",
   "execution_count": 164,
   "metadata": {
    "collapsed": true,
    "deletable": true,
    "editable": true
   },
   "outputs": [],
   "source": [
    "def epsilon(precision):\n",
    "    n = 0\n",
    "    while(precision(2**(-n) + 1) != 1.0):\n",
    "        n += 1\n",
    "    return 2**(-n + 1)\n",
    "\n",
    "\n",
    "\n",
    "def zero(precision):\n",
    "    n = 0\n",
    "    while(precision(2**(-n)) != 0.0):\n",
    "        n += 1\n",
    "    return 2**(-n + 1)\n",
    "\n",
    "\n",
    "def infty(precision):\n",
    "    n = 0\n",
    "    my_inf = 0\n",
    "    while my_inf != np.inf:\n",
    "        try:\n",
    "            my_inf = precision(2.0 ** n)\n",
    "        except OverflowError:\n",
    "            return 2.0**(n-1)\n",
    "        n += 1\n",
    "    return 2.0**(n-1)"
   ]
  },
  {
   "cell_type": "markdown",
   "metadata": {
    "deletable": true,
    "editable": true
   },
   "source": [
    "* Одинарная точность - *numpy.float32*"
   ]
  },
  {
   "cell_type": "code",
   "execution_count": 166,
   "metadata": {
    "collapsed": false,
    "deletable": true,
    "editable": true
   },
   "outputs": [
    {
     "name": "stdout",
     "output_type": "stream",
     "text": [
      "Машинный эпсилон: 1.1920928955078125e-07\n",
      "Машинный ноль: 1.401298464324817e-45\n",
      "Машинная бесконечность: 3.402823669209385e+38\n"
     ]
    }
   ],
   "source": [
    "print(\"Машинный эпсилон: {}\".format(epsilon(np.float32)))\n",
    "print(\"Машинный ноль: {}\".format(zero(np.float32)))\n",
    "print(\"Машинная бесконечность: {}\".format(infty(np.float32)))"
   ]
  },
  {
   "cell_type": "markdown",
   "metadata": {
    "deletable": true,
    "editable": true
   },
   "source": [
    "* Двойная точность - *numpy.float64*"
   ]
  },
  {
   "cell_type": "code",
   "execution_count": 167,
   "metadata": {
    "collapsed": false,
    "deletable": true,
    "editable": true
   },
   "outputs": [
    {
     "name": "stdout",
     "output_type": "stream",
     "text": [
      "Машинный эпсилон: 2.220446049250313e-16\n",
      "Машинный ноль: 5e-324\n",
      "Машинная бесконечность: 8.98846567431158e+307\n"
     ]
    }
   ],
   "source": [
    "print(\"Машинный эпсилон: {}\".format(epsilon(np.float64)))\n",
    "print(\"Машинный ноль: {}\".format(zero(np.float64)))\n",
    "print(\"Машинная бесконечность: {}\".format(infty(np.float64)))"
   ]
  },
  {
   "cell_type": "markdown",
   "metadata": {
    "deletable": true,
    "editable": true
   },
   "source": [
    "### Задание 1.10\n",
    "\n",
    "Три вектора $a_1, a_2, a_3$ заданы своими координатами в базисе $i , j , k$ . Что можно сказать о компланарности этих векторов, если:\n",
    "* координаты векторов заданы точно;\n",
    "* координаты векторов заданы приближённо с относительной погрешностью а) $\\sigma = \\alpha$ % б) $\\sigma = \\beta$ %. \n",
    "\n",
    "$a_1 = (10, 15, 1), a_2 = (0.7, 5.7, -9),  a_3 = (11, 16, 2)$\n",
    "\n",
    "\n",
    "$\\alpha = 0.05, \\beta=0.1$\n",
    "\n",
    "Решим задачу, согласно указаниям в приложении.\n",
    "* для первого случая, когда координаты указаны точно, проверим равенство определителя матрицы $A$ нулю"
   ]
  },
  {
   "cell_type": "code",
   "execution_count": 127,
   "metadata": {
    "collapsed": true,
    "deletable": true,
    "editable": true
   },
   "outputs": [],
   "source": [
    "def is_complanar(determinant):\n",
    "    print(\"Определитель матрицы А: {}\".format(determinant))\n",
    "    if determinant == 0:\n",
    "        print(\"Вектора a1, a2, a3 компланарны\")\n",
    "    else:\n",
    "        print(\"Вектора a1, a2, a3 некомпланарны\")"
   ]
  },
  {
   "cell_type": "code",
   "execution_count": 128,
   "metadata": {
    "collapsed": false,
    "deletable": true,
    "editable": true
   },
   "outputs": [
    {
     "name": "stdout",
     "output_type": "stream",
     "text": [
      "Определитель матрицы А: -3.499999999999865\n",
      "Вектора a1, a2, a3 некомпланарны\n"
     ]
    }
   ],
   "source": [
    "A = np.array([[10, 15, 1], \n",
    "              [0.7, 5.7, -9], \n",
    "              [11, 16, 2]])\n",
    "\n",
    "alpha = 0.05\n",
    "betta = 0.1\n",
    "\n",
    "determ = np.linalg.det(A)\n",
    "\n",
    "is_complanar(determ)"
   ]
  },
  {
   "cell_type": "markdown",
   "metadata": {
    "deletable": true,
    "editable": true
   },
   "source": [
    "* для второго случая используем функцию *get_dets*, в которой найдем детерминанты $2^9$ матриц, каждая из которых будет сформирована из векторов, координаты которых будут $a_{ij} *(1\\pm\\sigma)$\n",
    "* для этого используем матрицу векторов со всеми возможными позициями для погрешности *bool_matrix*, в которой вектора из 0 и 1 будут размерности 9, где 0 в $ij$-ой позиции будет обозначать $a_{ij}-\\sigma$, а 1 - $a_{ij}+\\sigma$"
   ]
  },
  {
   "cell_type": "code",
   "execution_count": 122,
   "metadata": {
    "collapsed": true,
    "deletable": true,
    "editable": true
   },
   "outputs": [],
   "source": [
    "def get_dets(A, sigma):\n",
    "    \n",
    "    determinants = []\n",
    "    dimension = A.shape[0]*A.shape[1]\n",
    "    bool_matrix = itertools.product([0,1], repeat=dimension)\n",
    "    \n",
    "    for cur_vec in bool_matrix:\n",
    "        cur_A = A.flatten()\n",
    "        for i in range(dimension):\n",
    "            if cur_vec[i] == 0:\n",
    "                cur_A[i] = cur_A[i] * (1 - sigma)\n",
    "            else:\n",
    "                cur_A[i] = cur_A[i] * (1 + sigma)\n",
    "                \n",
    "        cur_A = cur_A.reshape((A.shape[0], A.shape[1]))\n",
    "        \n",
    "        determinants.append(np.linalg.det(cur_A))\n",
    "        \n",
    "    return determinants"
   ]
  },
  {
   "cell_type": "markdown",
   "metadata": {
    "deletable": true,
    "editable": true
   },
   "source": [
    "##### a) $\\sigma = \\alpha$ %"
   ]
  },
  {
   "cell_type": "code",
   "execution_count": 133,
   "metadata": {
    "collapsed": true,
    "deletable": true,
    "editable": true
   },
   "outputs": [],
   "source": [
    "def if_complanar(min_det, max_det):\n",
    "    if min_det*max_det < 0:\n",
    "        print(\"Неопределенность, могут быть компланарны\")\n",
    "    else:\n",
    "        print(\"Точно не компланарны, нету нуля в отрезке [m, M]\")"
   ]
  },
  {
   "cell_type": "code",
   "execution_count": 134,
   "metadata": {
    "collapsed": false,
    "deletable": true,
    "editable": true
   },
   "outputs": [
    {
     "name": "stdout",
     "output_type": "stream",
     "text": [
      "Определитель матрицы А: -332.6870625000003\n",
      "Вектора a1, a2, a3 некомпланарны\n",
      "Определитель матрицы А: 323.0233125000004\n",
      "Вектора a1, a2, a3 некомпланарны\n",
      "Неопределенность, могут быть компланарны\n"
     ]
    }
   ],
   "source": [
    "dets_alpha = get_dets(A, alpha)\n",
    "\n",
    "min_det, max_det = np.min(dets_alpha), np.max(dets_alpha)\n",
    "\n",
    "is_complanar(min_det)\n",
    "is_complanar(max_det)\n",
    "\n",
    "if_complanar(min_det, max_det)"
   ]
  },
  {
   "cell_type": "markdown",
   "metadata": {
    "deletable": true,
    "editable": true
   },
   "source": [
    "##### б) $\\sigma = \\beta$ %"
   ]
  },
  {
   "cell_type": "code",
   "execution_count": 136,
   "metadata": {
    "collapsed": false,
    "deletable": true,
    "editable": true
   },
   "outputs": [
    {
     "name": "stdout",
     "output_type": "stream",
     "text": [
      "Определитель матрицы А: -689.3415000000006\n",
      "Вектора a1, a2, a3 некомпланарны\n",
      "Определитель матрицы А: 680.6415000000002\n",
      "Вектора a1, a2, a3 некомпланарны\n",
      "Неопределенность, могут быть компланарны\n"
     ]
    }
   ],
   "source": [
    "dets_beta = get_dets(A, betta)\n",
    "\n",
    "min_det, max_det = np.min(dets_beta), np.max(dets_beta)\n",
    "\n",
    "is_complanar(min_det)\n",
    "is_complanar(max_det)\n",
    "\n",
    "if_complanar(min_det, max_det)"
   ]
  },
  {
   "cell_type": "code",
   "execution_count": null,
   "metadata": {
    "collapsed": true,
    "deletable": true,
    "editable": true
   },
   "outputs": [],
   "source": []
  }
 ],
 "metadata": {
  "anaconda-cloud": {},
  "kernelspec": {
   "display_name": "Python 3",
   "language": "python",
   "name": "python3"
  },
  "language_info": {
   "codemirror_mode": {
    "name": "ipython",
    "version": 3
   },
   "file_extension": ".py",
   "mimetype": "text/x-python",
   "name": "python",
   "nbconvert_exporter": "python",
   "pygments_lexer": "ipython3",
   "version": "3.6.0"
  }
 },
 "nbformat": 4,
 "nbformat_minor": 0
}
