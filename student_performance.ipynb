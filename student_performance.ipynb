{
 "cells": [
  {
   "cell_type": "markdown",
   "metadata": {},
   "source": [
    "# Проект, часть 2.\n",
    "## Лайко Рудольф, ИАД_04"
   ]
  },
  {
   "cell_type": "code",
   "execution_count": 76,
   "metadata": {
    "collapsed": true
   },
   "outputs": [],
   "source": [
    "%matplotlib inline\n",
    "import matplotlib.pyplot as plt\n",
    "import numpy as np\n",
    "import pandas as pd"
   ]
  },
  {
   "cell_type": "markdown",
   "metadata": {},
   "source": [
    "# 1. Данные и признаки\n",
    "(честно говоря, воспринимал этот пункт как упражнение на знание инструментов языка и библиотеки pandas)\n",
    "\n",
    "1. Загрузим данные в DataFrame data\n",
    "2. Раскидаем признаки по отдельным DataFrame в соответствии с их типом\n",
    "3. Учитывая специфику данных возьмем те признаки, количество значений которых больше 5. Это и будут всеми числовыми. Перенесем их из data в отдельный DF\n",
    "4. Затем, заменим все \"yes\" и \"no\" в data на 1, 0, соответственно. С помощью генератора сделаем list из  имен признаков,        количестов значений которых равны 2 и имееют тип int64. Получим все бинарные признаки, т.к. ранее перенесли числовые в отдельный  DataFrame.\n",
    "5. Все что осталось в data - категориальные признаки."
   ]
  },
  {
   "cell_type": "code",
   "execution_count": 77,
   "metadata": {
    "collapsed": false
   },
   "outputs": [
    {
     "data": {
      "text/html": [
       "<div>\n",
       "<table border=\"1\" class=\"dataframe\">\n",
       "  <thead>\n",
       "    <tr style=\"text-align: right;\">\n",
       "      <th></th>\n",
       "      <th>school</th>\n",
       "      <th>sex</th>\n",
       "      <th>age</th>\n",
       "      <th>address</th>\n",
       "      <th>famsize</th>\n",
       "      <th>Pstatus</th>\n",
       "      <th>Medu</th>\n",
       "      <th>Fedu</th>\n",
       "      <th>Mjob</th>\n",
       "      <th>Fjob</th>\n",
       "      <th>...</th>\n",
       "      <th>famrel</th>\n",
       "      <th>freetime</th>\n",
       "      <th>goout</th>\n",
       "      <th>Dalc</th>\n",
       "      <th>Walc</th>\n",
       "      <th>health</th>\n",
       "      <th>absences</th>\n",
       "      <th>G1</th>\n",
       "      <th>G2</th>\n",
       "      <th>G3</th>\n",
       "    </tr>\n",
       "  </thead>\n",
       "  <tbody>\n",
       "    <tr>\n",
       "      <th>0</th>\n",
       "      <td>GP</td>\n",
       "      <td>F</td>\n",
       "      <td>18</td>\n",
       "      <td>U</td>\n",
       "      <td>GT3</td>\n",
       "      <td>A</td>\n",
       "      <td>4</td>\n",
       "      <td>4</td>\n",
       "      <td>at_home</td>\n",
       "      <td>teacher</td>\n",
       "      <td>...</td>\n",
       "      <td>4</td>\n",
       "      <td>3</td>\n",
       "      <td>4</td>\n",
       "      <td>1</td>\n",
       "      <td>1</td>\n",
       "      <td>3</td>\n",
       "      <td>4</td>\n",
       "      <td>0</td>\n",
       "      <td>11</td>\n",
       "      <td>11</td>\n",
       "    </tr>\n",
       "    <tr>\n",
       "      <th>1</th>\n",
       "      <td>GP</td>\n",
       "      <td>F</td>\n",
       "      <td>17</td>\n",
       "      <td>U</td>\n",
       "      <td>GT3</td>\n",
       "      <td>T</td>\n",
       "      <td>1</td>\n",
       "      <td>1</td>\n",
       "      <td>at_home</td>\n",
       "      <td>other</td>\n",
       "      <td>...</td>\n",
       "      <td>5</td>\n",
       "      <td>3</td>\n",
       "      <td>3</td>\n",
       "      <td>1</td>\n",
       "      <td>1</td>\n",
       "      <td>3</td>\n",
       "      <td>2</td>\n",
       "      <td>9</td>\n",
       "      <td>11</td>\n",
       "      <td>11</td>\n",
       "    </tr>\n",
       "    <tr>\n",
       "      <th>2</th>\n",
       "      <td>GP</td>\n",
       "      <td>F</td>\n",
       "      <td>15</td>\n",
       "      <td>U</td>\n",
       "      <td>LE3</td>\n",
       "      <td>T</td>\n",
       "      <td>1</td>\n",
       "      <td>1</td>\n",
       "      <td>at_home</td>\n",
       "      <td>other</td>\n",
       "      <td>...</td>\n",
       "      <td>4</td>\n",
       "      <td>3</td>\n",
       "      <td>2</td>\n",
       "      <td>2</td>\n",
       "      <td>3</td>\n",
       "      <td>3</td>\n",
       "      <td>6</td>\n",
       "      <td>12</td>\n",
       "      <td>13</td>\n",
       "      <td>12</td>\n",
       "    </tr>\n",
       "    <tr>\n",
       "      <th>3</th>\n",
       "      <td>GP</td>\n",
       "      <td>F</td>\n",
       "      <td>15</td>\n",
       "      <td>U</td>\n",
       "      <td>GT3</td>\n",
       "      <td>T</td>\n",
       "      <td>4</td>\n",
       "      <td>2</td>\n",
       "      <td>health</td>\n",
       "      <td>services</td>\n",
       "      <td>...</td>\n",
       "      <td>3</td>\n",
       "      <td>2</td>\n",
       "      <td>2</td>\n",
       "      <td>1</td>\n",
       "      <td>1</td>\n",
       "      <td>5</td>\n",
       "      <td>0</td>\n",
       "      <td>14</td>\n",
       "      <td>14</td>\n",
       "      <td>14</td>\n",
       "    </tr>\n",
       "    <tr>\n",
       "      <th>4</th>\n",
       "      <td>GP</td>\n",
       "      <td>F</td>\n",
       "      <td>16</td>\n",
       "      <td>U</td>\n",
       "      <td>GT3</td>\n",
       "      <td>T</td>\n",
       "      <td>3</td>\n",
       "      <td>3</td>\n",
       "      <td>other</td>\n",
       "      <td>other</td>\n",
       "      <td>...</td>\n",
       "      <td>4</td>\n",
       "      <td>3</td>\n",
       "      <td>2</td>\n",
       "      <td>1</td>\n",
       "      <td>2</td>\n",
       "      <td>5</td>\n",
       "      <td>0</td>\n",
       "      <td>11</td>\n",
       "      <td>13</td>\n",
       "      <td>13</td>\n",
       "    </tr>\n",
       "  </tbody>\n",
       "</table>\n",
       "<p>5 rows × 33 columns</p>\n",
       "</div>"
      ],
      "text/plain": [
       "  school sex  age address famsize Pstatus  Medu  Fedu     Mjob      Fjob ...  \\\n",
       "0     GP   F   18       U     GT3       A     4     4  at_home   teacher ...   \n",
       "1     GP   F   17       U     GT3       T     1     1  at_home     other ...   \n",
       "2     GP   F   15       U     LE3       T     1     1  at_home     other ...   \n",
       "3     GP   F   15       U     GT3       T     4     2   health  services ...   \n",
       "4     GP   F   16       U     GT3       T     3     3    other     other ...   \n",
       "\n",
       "  famrel freetime  goout  Dalc  Walc health absences  G1  G2  G3  \n",
       "0      4        3      4     1     1      3        4   0  11  11  \n",
       "1      5        3      3     1     1      3        2   9  11  11  \n",
       "2      4        3      2     2     3      3        6  12  13  12  \n",
       "3      3        2      2     1     1      5        0  14  14  14  \n",
       "4      4        3      2     1     2      5        0  11  13  13  \n",
       "\n",
       "[5 rows x 33 columns]"
      ]
     },
     "execution_count": 77,
     "metadata": {},
     "output_type": "execute_result"
    }
   ],
   "source": [
    "data = pd.read_csv('student-por.csv', sep = \";\")\n",
    "data.head()"
   ]
  },
  {
   "cell_type": "code",
   "execution_count": 78,
   "metadata": {
    "collapsed": false
   },
   "outputs": [],
   "source": [
    "binary_df = pd.DataFrame()\n",
    "categorical_df = pd.DataFrame()\n",
    "numeric_df = pd.DataFrame()"
   ]
  },
  {
   "cell_type": "code",
   "execution_count": 79,
   "metadata": {
    "collapsed": false
   },
   "outputs": [],
   "source": [
    "numeric = [i for i in data.columns if len(set(data[i])) > 5]\n",
    "\n",
    "for i in numeric:\n",
    "    numeric_df[i] = data[i]\n",
    "    data.drop(i, inplace=True,axis=1)"
   ]
  },
  {
   "cell_type": "code",
   "execution_count": 80,
   "metadata": {
    "collapsed": false
   },
   "outputs": [],
   "source": [
    "data = data.replace([\"yes\", \"no\"], [1, 0])"
   ]
  },
  {
   "cell_type": "code",
   "execution_count": 81,
   "metadata": {
    "collapsed": false
   },
   "outputs": [],
   "source": [
    "binary = [i for i in data.columns if len(set(data[i])) == 2 and data[i].dtype.name == \"int64\"]\n",
    "\n",
    "for i in binary:\n",
    "    binary_df[i] = data[i]\n",
    "    data.drop(i, inplace=True,axis=1)"
   ]
  },
  {
   "cell_type": "code",
   "execution_count": 82,
   "metadata": {
    "collapsed": false
   },
   "outputs": [],
   "source": [
    "categorical = data.columns\n",
    "# в data остались только категориальные признаки\n",
    "categorical_df = categorical_df.append(data)"
   ]
  },
  {
   "cell_type": "markdown",
   "metadata": {
    "collapsed": false
   },
   "source": [
    "# 2. Обучение\n",
    "\n",
    "* 1.Preproccesing. (будем использовать датафреймы, которые получили ранее)\n",
    "\n",
    "   1.1. Преобразуем категориальные признаки, используя One-Hot-Encoding\n",
    "   \n",
    "   1.2. Аналогично пункту 4 в предыдущей секции поменяем \"yes\" и \"no\"  на 1, 0, соответственно.\n",
    "   \n",
    "   1.3. Такие категориальные признаки, как например school, не будем делать бинарными, не смотря на то, что там всего два значения. То есть такие признаки подходят под пункт 1.1.\n",
    "   \n",
    "   1.4. Исключим признаки G1, G2, так как они сильно корреллируют с целевой переменной G3.\n",
    "   \n",
    "  \n",
    "   \n",
    "* 2.Обучение моделей и их сравнение\n",
    "\n",
    "    2.1. Linear Regression (+ Lasso, Ridge)\n",
    "    \n",
    "    2.2. Decision Tree\n",
    "    \n",
    "    2.3. Random Forest\n",
    "    \n",
    "    2.4. kNeighbors Regressor\n",
    "    \n",
    "    \n",
    "* 3.Выбор наилучшей модели\n",
    "\n",
    "    3.1. Feature scaling\n",
    "    \n",
    "    3.2. GridSearch\n",
    "    \n",
    "    3.3. Feature selecting"
   ]
  },
  {
   "cell_type": "markdown",
   "metadata": {},
   "source": [
    "## 1.Preprocessing"
   ]
  },
  {
   "cell_type": "code",
   "execution_count": 83,
   "metadata": {
    "collapsed": true
   },
   "outputs": [],
   "source": [
    "from pandas import get_dummies"
   ]
  },
  {
   "cell_type": "code",
   "execution_count": 216,
   "metadata": {
    "collapsed": false
   },
   "outputs": [],
   "source": [
    "myData = pd.concat([pd.get_dummies(categorical_df), binary_df, numeric_df],axis=1)\n",
    "target = myData[\"G3\"]\n",
    "temp_data = myData.copy(deep=True)\n",
    "myData.drop([\"G1\", \"G2\", \"G3\"], inplace=True,axis=1)"
   ]
  },
  {
   "cell_type": "code",
   "execution_count": 201,
   "metadata": {
    "collapsed": false,
    "scrolled": true
   },
   "outputs": [
    {
     "data": {
      "text/html": [
       "<div>\n",
       "<table border=\"1\" class=\"dataframe\">\n",
       "  <thead>\n",
       "    <tr style=\"text-align: right;\">\n",
       "      <th></th>\n",
       "      <th>Medu</th>\n",
       "      <th>Fedu</th>\n",
       "      <th>traveltime</th>\n",
       "      <th>studytime</th>\n",
       "      <th>failures</th>\n",
       "      <th>famrel</th>\n",
       "      <th>freetime</th>\n",
       "      <th>goout</th>\n",
       "      <th>Dalc</th>\n",
       "      <th>Walc</th>\n",
       "      <th>...</th>\n",
       "      <th>schoolsup</th>\n",
       "      <th>famsup</th>\n",
       "      <th>paid</th>\n",
       "      <th>activities</th>\n",
       "      <th>nursery</th>\n",
       "      <th>higher</th>\n",
       "      <th>internet</th>\n",
       "      <th>romantic</th>\n",
       "      <th>age</th>\n",
       "      <th>absences</th>\n",
       "    </tr>\n",
       "  </thead>\n",
       "  <tbody>\n",
       "    <tr>\n",
       "      <th>0</th>\n",
       "      <td>4</td>\n",
       "      <td>4</td>\n",
       "      <td>2</td>\n",
       "      <td>2</td>\n",
       "      <td>0</td>\n",
       "      <td>4</td>\n",
       "      <td>3</td>\n",
       "      <td>4</td>\n",
       "      <td>1</td>\n",
       "      <td>1</td>\n",
       "      <td>...</td>\n",
       "      <td>1</td>\n",
       "      <td>0</td>\n",
       "      <td>0</td>\n",
       "      <td>0</td>\n",
       "      <td>1</td>\n",
       "      <td>1</td>\n",
       "      <td>0</td>\n",
       "      <td>0</td>\n",
       "      <td>18</td>\n",
       "      <td>4</td>\n",
       "    </tr>\n",
       "    <tr>\n",
       "      <th>1</th>\n",
       "      <td>1</td>\n",
       "      <td>1</td>\n",
       "      <td>1</td>\n",
       "      <td>2</td>\n",
       "      <td>0</td>\n",
       "      <td>5</td>\n",
       "      <td>3</td>\n",
       "      <td>3</td>\n",
       "      <td>1</td>\n",
       "      <td>1</td>\n",
       "      <td>...</td>\n",
       "      <td>0</td>\n",
       "      <td>1</td>\n",
       "      <td>0</td>\n",
       "      <td>0</td>\n",
       "      <td>0</td>\n",
       "      <td>1</td>\n",
       "      <td>1</td>\n",
       "      <td>0</td>\n",
       "      <td>17</td>\n",
       "      <td>2</td>\n",
       "    </tr>\n",
       "    <tr>\n",
       "      <th>2</th>\n",
       "      <td>1</td>\n",
       "      <td>1</td>\n",
       "      <td>1</td>\n",
       "      <td>2</td>\n",
       "      <td>0</td>\n",
       "      <td>4</td>\n",
       "      <td>3</td>\n",
       "      <td>2</td>\n",
       "      <td>2</td>\n",
       "      <td>3</td>\n",
       "      <td>...</td>\n",
       "      <td>1</td>\n",
       "      <td>0</td>\n",
       "      <td>0</td>\n",
       "      <td>0</td>\n",
       "      <td>1</td>\n",
       "      <td>1</td>\n",
       "      <td>1</td>\n",
       "      <td>0</td>\n",
       "      <td>15</td>\n",
       "      <td>6</td>\n",
       "    </tr>\n",
       "    <tr>\n",
       "      <th>3</th>\n",
       "      <td>4</td>\n",
       "      <td>2</td>\n",
       "      <td>1</td>\n",
       "      <td>3</td>\n",
       "      <td>0</td>\n",
       "      <td>3</td>\n",
       "      <td>2</td>\n",
       "      <td>2</td>\n",
       "      <td>1</td>\n",
       "      <td>1</td>\n",
       "      <td>...</td>\n",
       "      <td>0</td>\n",
       "      <td>1</td>\n",
       "      <td>0</td>\n",
       "      <td>1</td>\n",
       "      <td>1</td>\n",
       "      <td>1</td>\n",
       "      <td>1</td>\n",
       "      <td>1</td>\n",
       "      <td>15</td>\n",
       "      <td>0</td>\n",
       "    </tr>\n",
       "    <tr>\n",
       "      <th>4</th>\n",
       "      <td>3</td>\n",
       "      <td>3</td>\n",
       "      <td>1</td>\n",
       "      <td>2</td>\n",
       "      <td>0</td>\n",
       "      <td>4</td>\n",
       "      <td>3</td>\n",
       "      <td>2</td>\n",
       "      <td>1</td>\n",
       "      <td>2</td>\n",
       "      <td>...</td>\n",
       "      <td>0</td>\n",
       "      <td>1</td>\n",
       "      <td>0</td>\n",
       "      <td>0</td>\n",
       "      <td>1</td>\n",
       "      <td>1</td>\n",
       "      <td>0</td>\n",
       "      <td>0</td>\n",
       "      <td>16</td>\n",
       "      <td>0</td>\n",
       "    </tr>\n",
       "  </tbody>\n",
       "</table>\n",
       "<p>5 rows × 48 columns</p>\n",
       "</div>"
      ],
      "text/plain": [
       "   Medu  Fedu  traveltime  studytime  failures  famrel  freetime  goout  Dalc  \\\n",
       "0     4     4           2          2         0       4         3      4     1   \n",
       "1     1     1           1          2         0       5         3      3     1   \n",
       "2     1     1           1          2         0       4         3      2     2   \n",
       "3     4     2           1          3         0       3         2      2     1   \n",
       "4     3     3           1          2         0       4         3      2     1   \n",
       "\n",
       "   Walc    ...     schoolsup  famsup  paid  activities  nursery  higher  \\\n",
       "0     1    ...             1       0     0           0        1       1   \n",
       "1     1    ...             0       1     0           0        0       1   \n",
       "2     3    ...             1       0     0           0        1       1   \n",
       "3     1    ...             0       1     0           1        1       1   \n",
       "4     2    ...             0       1     0           0        1       1   \n",
       "\n",
       "   internet  romantic  age  absences  \n",
       "0         0         0   18         4  \n",
       "1         1         0   17         2  \n",
       "2         1         0   15         6  \n",
       "3         1         1   15         0  \n",
       "4         0         0   16         0  \n",
       "\n",
       "[5 rows x 48 columns]"
      ]
     },
     "execution_count": 201,
     "metadata": {},
     "output_type": "execute_result"
    }
   ],
   "source": [
    "myData.head()"
   ]
  },
  {
   "cell_type": "markdown",
   "metadata": {
    "collapsed": false
   },
   "source": [
    "## 2. Обучение моделей и их сравнение\n",
    "\n",
    "### 2.1 Linear Regression"
   ]
  },
  {
   "cell_type": "code",
   "execution_count": 86,
   "metadata": {
    "collapsed": false
   },
   "outputs": [],
   "source": [
    "from sklearn.cross_validation import train_test_split\n",
    "from sklearn import cross_validation\n",
    "from sklearn.linear_model import LinearRegression, Ridge, Lasso\n",
    "from sklearn.metrics import mean_squared_error\n",
    "import sklearn.preprocessing \n",
    "import sklearn.neighbors\n",
    "from sklearn.cross_validation import cross_val_score\n"
   ]
  },
  {
   "cell_type": "code",
   "execution_count": 87,
   "metadata": {
    "collapsed": false
   },
   "outputs": [],
   "source": [
    "data_train, data_test, target_train, target_test = train_test_split(myData, target, test_size=0.2)"
   ]
  },
  {
   "cell_type": "code",
   "execution_count": 88,
   "metadata": {
    "collapsed": false
   },
   "outputs": [
    {
     "data": {
      "text/plain": [
       "LinearRegression(copy_X=True, fit_intercept=True, n_jobs=1, normalize=False)"
      ]
     },
     "execution_count": 88,
     "metadata": {},
     "output_type": "execute_result"
    }
   ],
   "source": [
    "lr = LinearRegression()\n",
    "lr.fit(data_train, target_train)"
   ]
  },
  {
   "cell_type": "code",
   "execution_count": 89,
   "metadata": {
    "collapsed": false
   },
   "outputs": [
    {
     "name": "stdout",
     "output_type": "stream",
     "text": [
      "Linear Regression RMSE:  [ 3.1881655   2.78369551  3.10941851  4.08799425  3.44460844]\n",
      "Linear Regression R2:  0.345609478971\n"
     ]
    }
   ],
   "source": [
    "lrError = np.sqrt(-(cross_val_score(lr, data_test, target_test, scoring='mean_squared_error',cv=5)))\n",
    "lrScore = lr.score(myData, target)\n",
    "print(\"Linear Regression RMSE: \", lrError)\n",
    "print(\"Linear Regression R2: \", lrScore)"
   ]
  },
  {
   "cell_type": "code",
   "execution_count": null,
   "metadata": {
    "collapsed": true
   },
   "outputs": [],
   "source": []
  },
  {
   "cell_type": "markdown",
   "metadata": {},
   "source": [
    "### Lasso\n",
    "\n",
    "Сразу найдем оптимальный параметр с помощью GridSearch"
   ]
  },
  {
   "cell_type": "code",
   "execution_count": 90,
   "metadata": {
    "collapsed": true
   },
   "outputs": [],
   "source": [
    "from sklearn.grid_search import GridSearchCV"
   ]
  },
  {
   "cell_type": "code",
   "execution_count": 91,
   "metadata": {
    "collapsed": false
   },
   "outputs": [
    {
     "data": {
      "text/plain": [
       "Lasso(alpha=0.04, copy_X=True, fit_intercept=True, max_iter=1000,\n",
       "   normalize=False, positive=False, precompute=False, random_state=None,\n",
       "   selection='cyclic', tol=0.0001, warm_start=False)"
      ]
     },
     "execution_count": 91,
     "metadata": {},
     "output_type": "execute_result"
    }
   ],
   "source": [
    "lrLasso = Lasso(alpha = 0.04)\n",
    "lrLasso.fit(data_train, target_train)"
   ]
  },
  {
   "cell_type": "code",
   "execution_count": 92,
   "metadata": {
    "collapsed": false
   },
   "outputs": [
    {
     "name": "stdout",
     "output_type": "stream",
     "text": [
      "GridSearchCV(cv=None, error_score='raise',\n",
      "       estimator=Lasso(alpha=0.04, copy_X=True, fit_intercept=True, max_iter=1000,\n",
      "   normalize=False, positive=False, precompute=False, random_state=None,\n",
      "   selection='cyclic', tol=0.0001, warm_start=False),\n",
      "       fit_params={}, iid=True, n_jobs=1,\n",
      "       param_grid={'alpha': array([ -1.00000e+00,   4.08163e-02,   1.08163e+00,   2.12245e+00,\n",
      "         3.16327e+00,   4.20408e+00,   5.24490e+00,   6.28571e+00,\n",
      "         7.32653e+00,   8.36735e+00,   9.40816e+00,   1.04490e+01,\n",
      "         1.14898e+01,   1.25306e+01,   1.35714e+01,   1.46122e+01,\n",
      "         1....    4.47959e+01,   4.58367e+01,   4.68776e+01,   4.79184e+01,\n",
      "         4.89592e+01,   5.00000e+01])},\n",
      "       pre_dispatch='2*n_jobs', refit=True, scoring=None, verbose=0)\n",
      "\n",
      "Лучшее значение гиперпараметра гиперпараметра для Lasso:  0.0408163265306\n"
     ]
    }
   ],
   "source": [
    "alphas = np.linspace(-1, 50)\n",
    "grid = GridSearchCV(estimator=lrLasso, param_grid=dict(alpha=alphas))\n",
    "\n",
    "grid.fit(data_train, target_train)\n",
    "print(grid)\n",
    "\n",
    "print(\"\\nЛучшее значение гиперпараметра гиперпараметра для Lasso: \", grid.best_estimator_.alpha)"
   ]
  },
  {
   "cell_type": "code",
   "execution_count": 93,
   "metadata": {
    "collapsed": false
   },
   "outputs": [
    {
     "name": "stdout",
     "output_type": "stream",
     "text": [
      "Lasso RMSE:  [ 2.65656344  2.42839256  2.84815668  3.8373581   3.00707862]\n",
      "Lasso R2:  0.335081297865\n"
     ]
    }
   ],
   "source": [
    "lrLassoError = np.sqrt(-(cross_val_score(lrLasso, data_test, target_test, scoring='mean_squared_error',cv=5)))\n",
    "lrLassoScore = lrLasso.score(myData, target)\n",
    "print(\"Lasso RMSE: \", lrLassoError)\n",
    "print(\"Lasso R2: \", lrLassoScore)"
   ]
  },
  {
   "cell_type": "markdown",
   "metadata": {},
   "source": [
    "### Ridge\n",
    "\n",
    "Аналогично Lasso"
   ]
  },
  {
   "cell_type": "code",
   "execution_count": 94,
   "metadata": {
    "collapsed": false
   },
   "outputs": [
    {
     "data": {
      "text/plain": [
       "Ridge(alpha=10, copy_X=True, fit_intercept=True, max_iter=None,\n",
       "   normalize=False, random_state=None, solver='auto', tol=0.001)"
      ]
     },
     "execution_count": 94,
     "metadata": {},
     "output_type": "execute_result"
    }
   ],
   "source": [
    "lrRidge = Ridge(alpha = 10)\n",
    "lrRidge.fit(data_train, target_train)"
   ]
  },
  {
   "cell_type": "code",
   "execution_count": 95,
   "metadata": {
    "collapsed": false
   },
   "outputs": [
    {
     "name": "stdout",
     "output_type": "stream",
     "text": [
      "GridSearchCV(cv=None, error_score='raise',\n",
      "       estimator=Ridge(alpha=10, copy_X=True, fit_intercept=True, max_iter=None,\n",
      "   normalize=False, random_state=None, solver='auto', tol=0.001),\n",
      "       fit_params={}, iid=True, n_jobs=1,\n",
      "       param_grid={'alpha': array([  1.00000e-50,   1.09854e-48,   1.20679e-46,   1.32571e-44,\n",
      "         1.45635e-42,   1.59986e-40,   1.75751e-38,   1.93070e-36,\n",
      "         2.12095e-34,   2.32995e-32,   2.55955e-30,   2.81177e-28,\n",
      "         3.08884e-26,   3.39322e-24,   3.72759e-22,   4.09492e-20,\n",
      "         4....    6.25055e+39,   6.86649e+41,   7.54312e+43,   8.28643e+45,\n",
      "         9.10298e+47,   1.00000e+50])},\n",
      "       pre_dispatch='2*n_jobs', refit=True, scoring=None, verbose=0)\n",
      "\n",
      "Лучшее значение гиперпараметра для Ridge:  10.4811313415\n"
     ]
    }
   ],
   "source": [
    "alphas = np.logspace(-50, 50)\n",
    "grid = GridSearchCV(estimator=lrRidge, param_grid=dict(alpha = alphas))\n",
    "\n",
    "grid.fit(myData, target)\n",
    "print(grid)\n",
    "print(\"\\nЛучшее значение гиперпараметра для Ridge: \", grid.best_estimator_.alpha)"
   ]
  },
  {
   "cell_type": "code",
   "execution_count": 96,
   "metadata": {
    "collapsed": false
   },
   "outputs": [
    {
     "name": "stdout",
     "output_type": "stream",
     "text": [
      "Lasso RMSE:  [ 2.53461151  2.12491339  2.88856034  3.83048819  2.76243954]\n",
      "Lasso R2:  0.187055086304\n"
     ]
    }
   ],
   "source": [
    "lrRidgeError = np.sqrt(-(cross_val_score(lrRidge, data_test, target_test, scoring='mean_squared_error',cv=5)))\n",
    "lrRidgeScore = lrRidge.score(data_test, target_test)\n",
    "print(\"Lasso RMSE: \", lrRidgeError)\n",
    "print(\"Lasso R2: \", lrRidgeScore)"
   ]
  },
  {
   "cell_type": "markdown",
   "metadata": {},
   "source": [
    "### 2.2. Decision Tree"
   ]
  },
  {
   "cell_type": "code",
   "execution_count": 98,
   "metadata": {
    "collapsed": true
   },
   "outputs": [],
   "source": [
    "from sklearn.tree import DecisionTreeRegressor"
   ]
  },
  {
   "cell_type": "code",
   "execution_count": 248,
   "metadata": {
    "collapsed": false
   },
   "outputs": [
    {
     "data": {
      "text/plain": [
       "48"
      ]
     },
     "execution_count": 248,
     "metadata": {},
     "output_type": "execute_result"
    }
   ],
   "source": [
    "dt = DecisionTreeRegressor(random_state=1000)\n",
    "len(data_train.columns)"
   ]
  },
  {
   "cell_type": "code",
   "execution_count": 226,
   "metadata": {
    "collapsed": false
   },
   "outputs": [],
   "source": [
    "splits = np.linspace(1, 15)\n",
    "n_ftrs = np.arange(10, 49)\n",
    "depth = np.linspace(50, 1000)\n",
    "tuning = [{'min_samples_split': splits, 'max_features': n_ftrs}]"
   ]
  },
  {
   "cell_type": "code",
   "execution_count": 101,
   "metadata": {
    "collapsed": false
   },
   "outputs": [
    {
     "data": {
      "text/plain": [
       "GridSearchCV(cv=None, error_score='raise',\n",
       "       estimator=DecisionTreeRegressor(criterion='mse', max_depth=None, max_features=None,\n",
       "           max_leaf_nodes=None, min_samples_leaf=1, min_samples_split=2,\n",
       "           min_weight_fraction_leaf=0.0, presort=False, random_state=1000,\n",
       "           splitter='best'),\n",
       "       fit_params={}, iid=True, n_jobs=1,\n",
       "       param_grid=[{'min_samples_split': array([  1.     ,   1.28571,   1.57143,   1.85714,   2.14286,   2.42857,\n",
       "         2.71429,   3.     ,   3.28571,   3.57143,   3.85714,   4.14286,\n",
       "         4.42857,   4.71429,   5.     ,   5.28571,   5.57143,   5.85714,\n",
       "         6.14286,   6.42857,   6.71429,   7.   ...   27, 28, 29, 30, 31, 32, 33, 34, 35, 36, 37, 38, 39, 40, 41, 42, 43,\n",
       "       44, 45, 46, 47, 48])}],\n",
       "       pre_dispatch='2*n_jobs', refit=True, scoring=None, verbose=0)"
      ]
     },
     "execution_count": 101,
     "metadata": {},
     "output_type": "execute_result"
    }
   ],
   "source": [
    "grid = GridSearchCV(estimator=dt, param_grid=tuning)\n",
    "grid.fit(data_train, target_train)"
   ]
  },
  {
   "cell_type": "code",
   "execution_count": 102,
   "metadata": {
    "collapsed": false
   },
   "outputs": [
    {
     "name": "stdout",
     "output_type": "stream",
     "text": [
      "Лучшее значение параметров DecisionTreeRegressor: \n",
      "min_samples_split  14.1428571429\n",
      "max_features 13\n"
     ]
    }
   ],
   "source": [
    "print(\"Лучшее значение параметров DecisionTreeRegressor: \")\n",
    "print(\"min_samples_split \", grid.best_estimator_.min_samples_split)\n",
    "print(\"max_features\", grid.best_estimator_.max_features )"
   ]
  },
  {
   "cell_type": "code",
   "execution_count": 103,
   "metadata": {
    "collapsed": false
   },
   "outputs": [
    {
     "data": {
      "text/plain": [
       "DecisionTreeRegressor(criterion='mse', max_depth=None, max_features=26,\n",
       "           max_leaf_nodes=None, min_samples_leaf=1, min_samples_split=13,\n",
       "           min_weight_fraction_leaf=0.0, presort=False, random_state=50,\n",
       "           splitter='best')"
      ]
     },
     "execution_count": 103,
     "metadata": {},
     "output_type": "execute_result"
    }
   ],
   "source": [
    "TunedDt = DecisionTreeRegressor(min_samples_split = 13, max_features = 26, random_state=50)\n",
    "TunedDt.fit(data_train, target_train)"
   ]
  },
  {
   "cell_type": "code",
   "execution_count": 104,
   "metadata": {
    "collapsed": false
   },
   "outputs": [
    {
     "name": "stdout",
     "output_type": "stream",
     "text": [
      "DecisionTreeRegressor RMSE:  [ 2.8799911   4.16263635  3.25513359  4.44144627  2.67911746]\n",
      "DecisionTreeRegressor R2:  0.54093147704\n"
     ]
    }
   ],
   "source": [
    "TunedDtError = np.sqrt(-(cross_val_score(TunedDt, data_test, target_test, scoring='mean_squared_error',cv=5)))\n",
    "TunedDtScore = TunedDt.score(myData, target)\n",
    "print(\"DecisionTreeRegressor RMSE: \", TunedDtError)\n",
    "print(\"DecisionTreeRegressor R2: \", TunedDtScore)"
   ]
  },
  {
   "cell_type": "markdown",
   "metadata": {},
   "source": [
    "### 2.3. Random Forest"
   ]
  },
  {
   "cell_type": "code",
   "execution_count": 108,
   "metadata": {
    "collapsed": false
   },
   "outputs": [],
   "source": [
    "from sklearn.ensemble import RandomForestRegressor"
   ]
  },
  {
   "cell_type": "code",
   "execution_count": 109,
   "metadata": {
    "collapsed": false
   },
   "outputs": [],
   "source": [
    "rf = RandomForestRegressor()"
   ]
  },
  {
   "cell_type": "code",
   "execution_count": 117,
   "metadata": {
    "collapsed": false
   },
   "outputs": [
    {
     "data": {
      "text/plain": [
       "GridSearchCV(cv=None, error_score='raise',\n",
       "       estimator=DecisionTreeRegressor(criterion='mse', max_depth=None, max_features=None,\n",
       "           max_leaf_nodes=None, min_samples_leaf=1, min_samples_split=2,\n",
       "           min_weight_fraction_leaf=0.0, presort=False, random_state=1000,\n",
       "           splitter='best'),\n",
       "       fit_params={}, iid=True, n_jobs=1,\n",
       "       param_grid=[{'min_samples_split': array([  1.     ,   1.28571,   1.57143,   1.85714,   2.14286,   2.42857,\n",
       "         2.71429,   3.     ,   3.28571,   3.57143,   3.85714,   4.14286,\n",
       "         4.42857,   4.71429,   5.     ,   5.28571,   5.57143,   5.85714,\n",
       "         6.14286,   6.42857,   6.71429,   7.   ...   27, 28, 29, 30, 31, 32, 33, 34, 35, 36, 37, 38, 39, 40, 41, 42, 43,\n",
       "       44, 45, 46, 47, 48])}],\n",
       "       pre_dispatch='2*n_jobs', refit=True, scoring=None, verbose=0)"
      ]
     },
     "execution_count": 117,
     "metadata": {},
     "output_type": "execute_result"
    }
   ],
   "source": [
    "grid = GridSearchCV(estimator=dt, param_grid=tuning)\n",
    "grid.fit(myData, target)"
   ]
  },
  {
   "cell_type": "code",
   "execution_count": 118,
   "metadata": {
    "collapsed": false
   },
   "outputs": [
    {
     "name": "stdout",
     "output_type": "stream",
     "text": [
      "Лучшее значение параметров RandomForestRegressor: \n",
      "min_samples_split  15.0\n",
      "max_features 26\n"
     ]
    }
   ],
   "source": [
    "print(\"Лучшее значение параметров RandomForestRegressor: \")\n",
    "print(\"min_samples_split \", grid.best_estimator_.min_samples_split)\n",
    "print(\"max_features\", grid.best_estimator_.max_features )"
   ]
  },
  {
   "cell_type": "code",
   "execution_count": 121,
   "metadata": {
    "collapsed": false
   },
   "outputs": [
    {
     "data": {
      "text/plain": [
       "RandomForestRegressor(bootstrap=True, criterion='mse', max_depth=None,\n",
       "           max_features=26, max_leaf_nodes=None, min_samples_leaf=1,\n",
       "           min_samples_split=15, min_weight_fraction_leaf=0.0,\n",
       "           n_estimators=10, n_jobs=1, oob_score=False, random_state=50,\n",
       "           verbose=0, warm_start=False)"
      ]
     },
     "execution_count": 121,
     "metadata": {},
     "output_type": "execute_result"
    }
   ],
   "source": [
    "TunedRf = RandomForestRegressor(min_samples_split = 15, max_features = 26, random_state=50)\n",
    "TunedRf.fit(data_train, target_train)"
   ]
  },
  {
   "cell_type": "code",
   "execution_count": 122,
   "metadata": {
    "collapsed": false
   },
   "outputs": [
    {
     "name": "stdout",
     "output_type": "stream",
     "text": [
      "RandomForestRegressor RMSE:  [ 2.40243471  2.09001549  3.23027699  3.83300248  2.26681742]\n",
      "RandomForestRegressor R2:  0.200197365557\n"
     ]
    }
   ],
   "source": [
    "TunedRfError = np.sqrt(-(cross_val_score(TunedRf, data_test, target_test, scoring='mean_squared_error',cv=5)))\n",
    "TunedRfScore = TunedRf.score(data_test, target_test)\n",
    "print(\"RandomForestRegressor RMSE: \", TunedRfError)\n",
    "print(\"RandomForestRegressor R2: \", TunedRfScore)"
   ]
  },
  {
   "cell_type": "code",
   "execution_count": null,
   "metadata": {
    "collapsed": false
   },
   "outputs": [],
   "source": [
    "#print(sorted(zip(map(lambda x: round(x, 4), TunedRf.feature_importances_), myData.columns), reverse=True))"
   ]
  },
  {
   "cell_type": "markdown",
   "metadata": {},
   "source": [
    "### 2.4. kNeighbours Regressor"
   ]
  },
  {
   "cell_type": "code",
   "execution_count": 124,
   "metadata": {
    "collapsed": true
   },
   "outputs": [],
   "source": [
    "from sklearn.neighbors import KNeighborsRegressor"
   ]
  },
  {
   "cell_type": "code",
   "execution_count": 125,
   "metadata": {
    "collapsed": false
   },
   "outputs": [],
   "source": [
    "knr = KNeighborsRegressor(algorithm='auto')"
   ]
  },
  {
   "cell_type": "code",
   "execution_count": 220,
   "metadata": {
    "collapsed": true
   },
   "outputs": [],
   "source": [
    "leafs = np.arange(30, 100)\n",
    "neighbors = np.arange(5, 100)\n",
    "tuning = [{'n_neighbors': neighbors, 'leaf_size': leafs}]"
   ]
  },
  {
   "cell_type": "code",
   "execution_count": 136,
   "metadata": {
    "collapsed": false
   },
   "outputs": [
    {
     "data": {
      "text/plain": [
       "GridSearchCV(cv=None, error_score='raise',\n",
       "       estimator=KNeighborsRegressor(algorithm='auto', leaf_size=30, metric='minkowski',\n",
       "          metric_params=None, n_jobs=1, n_neighbors=5, p=2,\n",
       "          weights='uniform'),\n",
       "       fit_params={}, iid=True, n_jobs=1,\n",
       "       param_grid=[{'n_neighbors': array([ 5,  6, ..., 98, 99]), 'leaf_size': array([30, 31, ..., 98, 99])}],\n",
       "       pre_dispatch='2*n_jobs', refit=True, scoring=None, verbose=0)"
      ]
     },
     "execution_count": 136,
     "metadata": {},
     "output_type": "execute_result"
    }
   ],
   "source": [
    "grid = GridSearchCV(estimator=knr, param_grid=tuning)\n",
    "grid.fit(myData, target)"
   ]
  },
  {
   "cell_type": "code",
   "execution_count": 128,
   "metadata": {
    "collapsed": false
   },
   "outputs": [
    {
     "name": "stdout",
     "output_type": "stream",
     "text": [
      "Лучшее значение параметров KNeighborsRegressor: \n",
      "n_neighbors  24\n",
      "leaf_size 30\n"
     ]
    }
   ],
   "source": [
    "print(\"Лучшее значение параметров KNeighborsRegressor: \")\n",
    "print(\"n_neighbors \", grid.best_estimator_.n_neighbors)\n",
    "print(\"leaf_size\", grid.best_estimator_.leaf_size )"
   ]
  },
  {
   "cell_type": "code",
   "execution_count": 138,
   "metadata": {
    "collapsed": false
   },
   "outputs": [
    {
     "data": {
      "text/plain": [
       "KNeighborsRegressor(algorithm='auto', leaf_size=30, metric='minkowski',\n",
       "          metric_params=None, n_jobs=1, n_neighbors=24, p=2,\n",
       "          weights='distance')"
      ]
     },
     "execution_count": 138,
     "metadata": {},
     "output_type": "execute_result"
    }
   ],
   "source": [
    "TunedKnr = KNeighborsRegressor(n_neighbors = 24, leaf_size = 30, weights='distance')\n",
    "TunedKnr.fit(data_train, target_train)"
   ]
  },
  {
   "cell_type": "code",
   "execution_count": 139,
   "metadata": {
    "collapsed": false
   },
   "outputs": [
    {
     "name": "stdout",
     "output_type": "stream",
     "text": [
      "RandomForestRegressor RMSE:  [ 2.60894893  2.3864149   3.40252101  4.28448767  2.33927734]\n",
      "RandomForestRegressor R2:  0.117058048913\n"
     ]
    }
   ],
   "source": [
    "TunedKnrError = np.sqrt(-(cross_val_score(TunedKnr, data_test, target_test, scoring='mean_squared_error',cv=5)))\n",
    "TunedKnrScore = TunedKnr.score(data_test, target_test)\n",
    "print(\"RandomForestRegressor RMSE: \", TunedKnrError)\n",
    "print(\"RandomForestRegressor R2: \", TunedKnrScore)"
   ]
  },
  {
   "cell_type": "code",
   "execution_count": 140,
   "metadata": {
    "collapsed": true
   },
   "outputs": [],
   "source": [
    "scores = pd.DataFrame([lrScore, lrLassoScore, lrRidgeScore, TunedDtScore, TunedRfScore, TunedKnrScore]).T\n",
    "scores.columns = [\"Linear Regression\", \"Lasso\", \"Ridge\",\n",
    "                                  \"DecisionTree\", \"RandomForest\", \"kNeigbours\"]"
   ]
  },
  {
   "cell_type": "code",
   "execution_count": 147,
   "metadata": {
    "collapsed": false
   },
   "outputs": [
    {
     "data": {
      "text/plain": [
       "<matplotlib.axes._subplots.AxesSubplot at 0x18da425d978>"
      ]
     },
     "execution_count": 147,
     "metadata": {},
     "output_type": "execute_result"
    },
    {
     "data": {
      "image/png": "[encoded data removed]",
      "text/plain": [
       "<matplotlib.figure.Figure at 0x18da484b9b0>"
      ]
     },
     "metadata": {},
     "output_type": "display_data"
    }
   ],
   "source": [
    "scores.plot(kind = \"bar\", alpha = 0.3, title = \"R2 Scores of models\", figsize = (16, 9))\n"
   ]
  },
  {
   "cell_type": "markdown",
   "metadata": {
    "collapsed": false
   },
   "source": [
    "Посмотрим на важность признаков для Lasso и заметим, на обнуление некоторых из них (регуляризация в деле)"
   ]
  },
  {
   "cell_type": "code",
   "execution_count": 148,
   "metadata": {
    "collapsed": false
   },
   "outputs": [
    {
     "name": "stdout",
     "output_type": "stream",
     "text": [
      "Feature importances:\n",
      " 1. feature 'higher' (1.2443)\n",
      " 2. feature 'school_GP' (0.9645)\n",
      " 3. feature 'sex_F' (0.5788)\n",
      " 4. feature 'Fjob_teacher' (0.4605)\n",
      " 5. feature 'studytime' (0.3155)\n",
      " 6. feature 'Medu ' (0.2747)\n",
      " 7. feature 'age  ' (0.1590)\n",
      " 8. feature 'famrel' (0.1376)\n",
      " 9. feature 'reason_reputation' (0.1333)\n",
      "10. feature 'Fedu ' (0.1204)\n",
      "11. feature 'activities' (0.0879)\n",
      "12. feature 'guardian_father' (0.0024)\n",
      "13. feature 'address_U' (0.0000)\n",
      "14. feature 'Mjob_teacher' (0.0000)\n",
      "15. feature 'school_MS' (-0.0000)\n",
      "16. feature 'famsize_LE3' (0.0000)\n",
      "17. feature 'Pstatus_A' (-0.0000)\n",
      "18. feature 'Pstatus_T' (0.0000)\n",
      "19. feature 'Mjob_at_home' (-0.0000)\n",
      "20. feature 'Mjob_health' (0.0000)\n",
      "21. feature 'Mjob_services' (0.0000)\n",
      "22. feature 'Fjob_other' (0.0000)\n",
      "23. feature 'Fjob_at_home' (-0.0000)\n",
      "24. feature 'Fjob_health' (-0.0000)\n",
      "25. feature 'traveltime' (0.0000)\n",
      "26. feature 'internet' (0.0000)\n",
      "27. feature 'reason_home' (0.0000)\n",
      "28. feature 'reason_other' (-0.0000)\n",
      "29. feature 'goout' (-0.0000)\n",
      "30. feature 'guardian_other' (0.0000)\n",
      "31. feature 'famsup' (0.0000)\n",
      "32. feature 'reason_course' (-0.0000)\n",
      "33. feature 'sex_M' (-0.0000)\n",
      "34. feature 'absences' (-0.0499)\n",
      "35. feature 'famsize_GT3' (-0.0585)\n",
      "36. feature 'freetime' (-0.0672)\n",
      "37. feature 'Walc ' (-0.1496)\n",
      "38. feature 'guardian_mother' (-0.1644)\n",
      "39. feature 'Dalc ' (-0.1709)\n",
      "40. feature 'romantic' (-0.1850)\n",
      "41. feature 'Fjob_services' (-0.1853)\n",
      "42. feature 'health' (-0.2006)\n",
      "43. feature 'nursery' (-0.2375)\n",
      "44. feature 'Mjob_other' (-0.2394)\n",
      "45. feature 'paid ' (-0.2465)\n",
      "46. feature 'address_R' (-0.4630)\n",
      "47. feature 'schoolsup' (-0.5848)\n",
      "48. feature 'failures' (-1.4831)\n"
     ]
    }
   ],
   "source": [
    "importances = lrLasso.coef_\n",
    "indices = np.argsort(importances)[::-1]\n",
    "\n",
    "print(\"Feature importances:\")\n",
    "for f, idx in enumerate(indices):\n",
    "    print(\"{:2d}. feature '{:5s}' ({:.4f})\".format(f + 1, myData.columns[idx], importances[idx]))"
   ]
  },
  {
   "cell_type": "code",
   "execution_count": 247,
   "metadata": {
    "collapsed": false
   },
   "outputs": [
    {
     "data": {
      "image/png": "[encoded data removed]",
      "text/plain": [
       "<matplotlib.figure.Figure at 0x18da678e780>"
      ]
     },
     "metadata": {},
     "output_type": "display_data"
    }
   ],
   "source": [
    "plt.figure(figsize=(16, 9))\n",
    "plt.title(\"Feature importances\")\n",
    "plt.bar(range(len(myData.columns[:20])), importances[indices[:20]], align='center', color = 'darkturquoise', alpha = 0.4)\n",
    "plt.xticks(range(len(myData.columns[:20])), np.array(myData.columns)[indices[:20]], rotation=45)\n",
    "plt.xlim([-1, 20]);"
   ]
  },
  {
   "cell_type": "code",
   "execution_count": null,
   "metadata": {
    "collapsed": false
   },
   "outputs": [],
   "source": []
  },
  {
   "cell_type": "code",
   "execution_count": null,
   "metadata": {
    "collapsed": false
   },
   "outputs": [],
   "source": []
  },
  {
   "cell_type": "markdown",
   "metadata": {},
   "source": [
    "## 3. Совершенствование лучшей модели.\n",
    "\n",
    "Усовершенствуем показатели лучшей модели, посредством работы с признаками\n",
    "\n",
    "### 3.1. Feature scaling\n",
    "\n",
    "* Учитывая, что для tree-based моделей не важен масштаб признаков, проверим на регрессии, будет ли она лучше с масштабирвоанными признаками.\n",
    "\n",
    "* Сначала нормализуем все признаки с помощью StandartScaler библиотеки sklearn\n",
    "\n",
    "* Затем попробуем нормализовать вручную только числовые признаки и посмотрим, стало ли лучше\n",
    "\n",
    "### 3.2. Корреляция\n",
    "\n",
    "### 3.3. Еще одна модель"
   ]
  },
  {
   "cell_type": "markdown",
   "metadata": {},
   "source": [
    "#### StandartScaler"
   ]
  },
  {
   "cell_type": "code",
   "execution_count": null,
   "metadata": {
    "collapsed": false
   },
   "outputs": [],
   "source": [
    "from sklearn.preprocessing import StandardScaler"
   ]
  },
  {
   "cell_type": "code",
   "execution_count": null,
   "metadata": {
    "collapsed": false
   },
   "outputs": [],
   "source": [
    "scaler = StandardScaler()\n",
    "scaled_data = pd.DataFrame(scaler.fit_transform(myData), columns = myData.columns)\n",
    "scaled_target = pd.DataFrame(scaler.fit_transform(target))\n",
    "scaled_train, scaled_test, sc_target_train, sc_target_test = train_test_split(scaled_data, scaled_target, test_size = 0.2)"
   ]
  },
  {
   "cell_type": "code",
   "execution_count": null,
   "metadata": {
    "collapsed": false
   },
   "outputs": [],
   "source": [
    "lr_scaled_Ridge = Ridge()\n",
    "lr_scaled_Ridge.fit(scaled_data, scaled_target)"
   ]
  },
  {
   "cell_type": "code",
   "execution_count": null,
   "metadata": {
    "collapsed": false
   },
   "outputs": [],
   "source": [
    "alphas = np.arange(-50, 300)\n",
    "sc_grid = GridSearchCV(lr_scaled_Ridge, param_grid=dict(alpha = alphas))\n",
    "sc_grid.fit(scaled_data, scaled_target)\n",
    "print(grid)\n",
    "print(\"\\nЛучшее значение гиперпараметра для Ridge: \", sc_grid.best_estimator_.alpha)"
   ]
  },
  {
   "cell_type": "code",
   "execution_count": null,
   "metadata": {
    "collapsed": false
   },
   "outputs": [],
   "source": [
    "tuned_scaled_ridge = Ridge(alpha = 227)\n",
    "tuned_scaled_ridge.fit(scaled_train, sc_target_train)"
   ]
  },
  {
   "cell_type": "code",
   "execution_count": null,
   "metadata": {
    "collapsed": false
   },
   "outputs": [],
   "source": [
    "tnd_sc_ridgeError = np.sqrt(-(cross_val_score(tuned_scaled_ridge, scaled_test, sc_target_test, scoring='mean_squared_error',cv=5)))\n",
    "tnd_sc_ridgeScore = tuned_scaled_ridge.score(scaled_test, sc_target_test)\n",
    "print(\"Linear Regression RMSE: \", tnd_sc_ridgeError)\n",
    "print(\"Linear Regression R2: \", lrScore)"
   ]
  },
  {
   "cell_type": "markdown",
   "metadata": {},
   "source": [
    "Ошибка стала меньше, что очевидно, потому что величины сами по себе стали меньше, значит и разница между предсказанным значением оценки и настоящей. В то же время R2 не увеличилась.\n",
    "\n",
    "Попробуем нормализовать только числовые признаки"
   ]
  },
  {
   "cell_type": "code",
   "execution_count": null,
   "metadata": {
    "collapsed": false,
    "scrolled": true
   },
   "outputs": [],
   "source": []
  },
  {
   "cell_type": "code",
   "execution_count": null,
   "metadata": {
    "collapsed": true
   },
   "outputs": [],
   "source": []
  },
  {
   "cell_type": "markdown",
   "metadata": {
    "collapsed": true
   },
   "source": [
    "#### Только числовые"
   ]
  },
  {
   "cell_type": "code",
   "execution_count": 190,
   "metadata": {
    "collapsed": false
   },
   "outputs": [],
   "source": [
    "scaled_numeric_df = numeric_df.copy(deep=True)\n",
    "scaled_numeric_df = (scaled_numeric_df - scaled_numeric_df.mean()) / scaled_numeric_df.std()\n",
    "scaled_data = pd.concat([pd.get_dummies(categorical_df), binary_df, scaled_numeric_df],axis=1)\n",
    "scaled_data.drop([\"G1\", \"G2\", \"G3\"], axis = 1, inplace = True)\n",
    "\n",
    "sc_train, sc_test, sc_target_train, sc_target_test = train_test_split(scaled_data, target, test_size = 0.2)"
   ]
  },
  {
   "cell_type": "code",
   "execution_count": null,
   "metadata": {
    "collapsed": false
   },
   "outputs": [],
   "source": [
    "lr_scaled_Ridge = Ridge()\n",
    "lr_scaled_Ridge.fit(sc_train, sc_target_train)\n",
    "alphas = np.arange(-50, 50)\n",
    "sc_grid = GridSearchCV(lr_scaled_Ridge, param_grid=dict(alpha = alphas))\n",
    "sc_grid.fit(scaled_data, target)\n",
    "print(grid)\n",
    "print(\"\\nЛучшее значение гиперпараметра для Ridge: \", sc_grid.best_estimator_.alpha)"
   ]
  },
  {
   "cell_type": "code",
   "execution_count": null,
   "metadata": {
    "collapsed": false
   },
   "outputs": [],
   "source": [
    "tuned_scaled_ridge = Ridge(alpha = 14)\n",
    "tuned_scaled_ridge.fit(scaled_train, sc_target_train)"
   ]
  },
  {
   "cell_type": "code",
   "execution_count": null,
   "metadata": {
    "collapsed": false
   },
   "outputs": [],
   "source": [
    "tnd_sc_ridgeError = np.sqrt(-(cross_val_score(tuned_scaled_ridge, scaled_test, sc_target_test, scoring='mean_squared_error',cv=5)))\n",
    "tnd_sc_ridgeScore = tuned_scaled_ridge.score(scaled_test, sc_target_test)\n",
    "print(\"Linear Regression RMSE: \", tnd_sc_ridgeError)\n",
    "print(\"Linear Regression R2: \", lrScore)\n",
    "tuned_scaled_ridge."
   ]
  },
  {
   "cell_type": "markdown",
   "metadata": {},
   "source": [
    "Показатели не улучшились - масштабирование никак не помогает"
   ]
  },
  {
   "cell_type": "markdown",
   "metadata": {},
   "source": [
    "#### Корреляция\n",
    "\n",
    "Попробуем отобрать признаки. Это не имеет смысла для регрессий с регуляризацией, так как там это происходит синтетически, посредством обнуления весов некоторых признаков (видно на картинке \"Feature Importance\" выше)\n",
    "\n",
    "Обратим внимание на модель, показавшую лучший результат, и вручную отберем признаки, посмотрев на их корреляцию."
   ]
  },
  {
   "cell_type": "code",
   "execution_count": 189,
   "metadata": {
    "collapsed": false
   },
   "outputs": [
    {
     "data": {
      "text/plain": [
       "([<matplotlib.axis.YTick at 0x18da4cdfef0>,\n",
       "  <matplotlib.axis.YTick at 0x18da51e1668>,\n",
       "  <matplotlib.axis.YTick at 0x18da4cfe7f0>,\n",
       "  <matplotlib.axis.YTick at 0x18da694e160>,\n",
       "  <matplotlib.axis.YTick at 0x18da4d2c4a8>,\n",
       "  <matplotlib.axis.YTick at 0x18da50e2b70>,\n",
       "  <matplotlib.axis.YTick at 0x18da6915898>,\n",
       "  <matplotlib.axis.YTick at 0x18da50d7438>,\n",
       "  <matplotlib.axis.YTick at 0x18da6959a20>,\n",
       "  <matplotlib.axis.YTick at 0x18da6959cf8>,\n",
       "  <matplotlib.axis.YTick at 0x18da516f7b8>],\n",
       " <a list of 11 Text yticklabel objects>)"
      ]
     },
     "execution_count": 189,
     "metadata": {},
     "output_type": "execute_result"
    },
    {
     "data": {
      "image/png": "[encoded data removed]",
      "text/plain": [
       "<matplotlib.figure.Figure at 0x18da51675f8>"
      ]
     },
     "metadata": {},
     "output_type": "display_data"
    }
   ],
   "source": [
    "corr_data = data.corr() # corr() сама опускает нечисловые признаки и поэтому мы можем сам\n",
    "\n",
    "plt.figure(figsize = (16, 16))\n",
    "plt.imshow(corr_data,cmap='seismic',interpolation='none',vmin=-1,vmax=1, )\n",
    "plt.colorbar()\n",
    "plt.xticks(range(len(corr_data)),corr_data.columns)\n",
    "plt.yticks(range(len(corr_data)),corr_data.columns)"
   ]
  },
  {
   "cell_type": "code",
   "execution_count": null,
   "metadata": {
    "collapsed": false
   },
   "outputs": [],
   "source": []
  },
  {
   "cell_type": "markdown",
   "metadata": {
    "collapsed": true
   },
   "source": [
    "Из визуализации корреляции между признаками выше видно:\n",
    "\n",
    "   1. Оценки между собой очень сильно коррелируют. Собственно поэтому мы их сразу и убрали.\n",
    "   2. Квадрат признаков goout, Dalc и Walc довольно красный. Хотя бы один признак можно убрать(Dalc например)\n",
    "   3. Аналогично с Fedu, Medu. Можем оставить только Fedu\n",
    "   \n",
    "Посмотрим на то, будет ли DecisionTree иметь лучшие показатели, если выкинем из данных признаки, указанные выше.\n",
    "Для удобства будем работать с новым DataFrame"
   ]
  },
  {
   "cell_type": "code",
   "execution_count": 297,
   "metadata": {
    "collapsed": false
   },
   "outputs": [],
   "source": [
    "new_data = myData.copy(deep=True)\n",
    "new_data.drop([\"Medu\", \"Dalc\"], axis=1, inplace=True)\n",
    "new_data_train, new_data_test, new_target_train, new_target_test = train_test_split(new_data, target, test_size=0.2)"
   ]
  },
  {
   "cell_type": "code",
   "execution_count": 265,
   "metadata": {
    "collapsed": false
   },
   "outputs": [],
   "source": [
    "tuning = [{'min_samples_split': splits, 'max_features': np.arange(10,47)}]"
   ]
  },
  {
   "cell_type": "code",
   "execution_count": 254,
   "metadata": {
    "collapsed": false
   },
   "outputs": [
    {
     "data": {
      "text/plain": [
       "DecisionTreeRegressor(criterion='mse', max_depth=None, max_features=26,\n",
       "           max_leaf_nodes=None, min_samples_leaf=1, min_samples_split=13,\n",
       "           min_weight_fraction_leaf=0.0, presort=False, random_state=50,\n",
       "           splitter='best')"
      ]
     },
     "execution_count": 254,
     "metadata": {},
     "output_type": "execute_result"
    }
   ],
   "source": [
    "new_Dt = DecisionTreeRegressor(min_samples_split = 13, max_features = 26, random_state=50)\n",
    "new_Dt.fit(new_data_train, new_target_train)"
   ]
  },
  {
   "cell_type": "code",
   "execution_count": 255,
   "metadata": {
    "collapsed": false
   },
   "outputs": [
    {
     "data": {
      "text/plain": [
       "GridSearchCV(cv=None, error_score='raise',\n",
       "       estimator=DecisionTreeRegressor(criterion='mse', max_depth=None, max_features=26,\n",
       "           max_leaf_nodes=None, min_samples_leaf=1, min_samples_split=13,\n",
       "           min_weight_fraction_leaf=0.0, presort=False, random_state=50,\n",
       "           splitter='best'),\n",
       "       fit_params={}, iid=True, n_jobs=1,\n",
       "       param_grid=[{'min_samples_split': array([  1.     ,   1.28571,   1.57143,   1.85714,   2.14286,   2.42857,\n",
       "         2.71429,   3.     ,   3.28571,   3.57143,   3.85714,   4.14286,\n",
       "         4.42857,   4.71429,   5.     ,   5.28571,   5.57143,   5.85714,\n",
       "         6.14286,   6.42857,   6.71429,   7.   ...26,\n",
       "       27, 28, 29, 30, 31, 32, 33, 34, 35, 36, 37, 38, 39, 40, 41, 42, 43,\n",
       "       44, 45, 46])}],\n",
       "       pre_dispatch='2*n_jobs', refit=True, scoring=None, verbose=0)"
      ]
     },
     "execution_count": 255,
     "metadata": {},
     "output_type": "execute_result"
    }
   ],
   "source": [
    "grid = GridSearchCV(estimator=new_Dt, param_grid=tuning)\n",
    "grid.fit(new_data, target)"
   ]
  },
  {
   "cell_type": "code",
   "execution_count": 253,
   "metadata": {
    "collapsed": false
   },
   "outputs": [
    {
     "name": "stdout",
     "output_type": "stream",
     "text": [
      "Лучшее значение параметров DecisionTreeRegressor: \n",
      "min_samples_split  14.1428571429\n",
      "max_features 19\n"
     ]
    }
   ],
   "source": [
    "print(\"Лучшее значение параметров DecisionTreeRegressor: \")\n",
    "print(\"min_samples_split \", grid.best_estimator_.min_samples_split)\n",
    "print(\"max_features\", grid.best_estimator_.max_features )"
   ]
  },
  {
   "cell_type": "code",
   "execution_count": 257,
   "metadata": {
    "collapsed": false
   },
   "outputs": [
    {
     "data": {
      "text/plain": [
       "DecisionTreeRegressor(criterion='mse', max_depth=None, max_features=19,\n",
       "           max_leaf_nodes=None, min_samples_leaf=1, min_samples_split=14,\n",
       "           min_weight_fraction_leaf=0.0, presort=False, random_state=50,\n",
       "           splitter='best')"
      ]
     },
     "execution_count": 257,
     "metadata": {},
     "output_type": "execute_result"
    }
   ],
   "source": [
    "new_Tuned_Dt = DecisionTreeRegressor(min_samples_split = 14, max_features = 19, random_state=50)\n",
    "new_Tuned_Dt.fit(new_data_train, new_target_train)"
   ]
  },
  {
   "cell_type": "code",
   "execution_count": 298,
   "metadata": {
    "collapsed": false
   },
   "outputs": [
    {
     "name": "stdout",
     "output_type": "stream",
     "text": [
      "DecisionTreeRegressor RMSE:  [ 2.45471148  4.03692934  3.5952066   2.5830261   2.96658065]\n",
      "DecisionTreeRegressor R2:  0.457104738581\n"
     ]
    }
   ],
   "source": [
    "new_Tuned_DtError = np.sqrt(-(cross_val_score(new_Tuned_Dt, new_data_test, new_target_test, scoring='mean_squared_error',cv=5)))\n",
    "new_Tuned_DtScore = new_Tuned_Dt.score(new_data_test, new_target_test)\n",
    "print(\"DecisionTreeRegressor RMSE: \", new_Tuned_DtError)\n",
    "print(\"DecisionTreeRegressor R2: \", new_Tuned_DtScore)"
   ]
  },
  {
   "cell_type": "markdown",
   "metadata": {
    "collapsed": true
   },
   "source": [
    "Как видно, лучше не стало."
   ]
  },
  {
   "cell_type": "code",
   "execution_count": null,
   "metadata": {
    "collapsed": false
   },
   "outputs": [],
   "source": []
  },
  {
   "cell_type": "markdown",
   "metadata": {},
   "source": []
  },
  {
   "cell_type": "code",
   "execution_count": null,
   "metadata": {
    "collapsed": false
   },
   "outputs": [],
   "source": []
  },
  {
   "cell_type": "code",
   "execution_count": null,
   "metadata": {
    "collapsed": false
   },
   "outputs": [],
   "source": []
  },
  {
   "cell_type": "code",
   "execution_count": null,
   "metadata": {
    "collapsed": true
   },
   "outputs": [],
   "source": []
  }
 ],
 "metadata": {
  "kernelspec": {
   "display_name": "Python [Root]",
   "language": "python",
   "name": "Python [Root]"
  },
  "language_info": {
   "codemirror_mode": {
    "name": "ipython",
    "version": 3
   },
   "file_extension": ".py",
   "mimetype": "text/x-python",
   "name": "python",
   "nbconvert_exporter": "python",
   "pygments_lexer": "ipython3",
   "version": "3.5.2"
  }
 },
 "nbformat": 4,
 "nbformat_minor": 0
}
