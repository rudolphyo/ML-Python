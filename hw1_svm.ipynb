{
 "cells": [
  {
   "cell_type": "markdown",
   "metadata": {},
   "source": [
    "# Домашняя работа №1\n",
    "Майнор по анализу данных 2016"
   ]
  },
  {
   "cell_type": "markdown",
   "metadata": {},
   "source": [
    "<hr\\>\n",
    "**Общая информация**\n",
    "\n",
    "**Жесткий срок сдачи:** 30 сентября 2016, 23:59 <br\\>\n",
    "\n",
    "При отправлении ДЗ на почту указывайте фамилию в названии файла, а тему письма оформляйте в следующем виде: <br\\>\n",
    "** [Майнор ИАД 2016] *{Фамилия}* *{Имя}* ДЗ*{Номер}* **<br\\>\n",
    "\n",
    "\n",
    "Сопровождайте ваш код изображеними, комментариями и выводами. <br\\>\n",
    "Иммейте ввиду, что на некоторые задачи нет единственного верного и полного ответа. Чем больше информации вы сможете извлечь, аргументированных выводов сформулировать, тем лучше.\n",
    "\n",
    "Используйте данный Ipython Notebook при оформлении домашнего задания.\n",
    "<hr\\>"
   ]
  },
  {
   "cell_type": "markdown",
   "metadata": {
    "toc": "true"
   },
   "source": [
    "# Table of Contents\n",
    " <p><div class=\"lev1 toc-item\"><a data-toc-modified-id=\"Домашняя-работа-№1-1\" href=\"#Домашняя-работа-№1\"><span class=\"toc-item-num\">1&nbsp;&nbsp;</span>Домашняя работа №1</a></div><div class=\"lev1 toc-item\"><a data-toc-modified-id=\"Регрессия-с-SVM-(3-балла)-2\" href=\"#Регрессия-с-SVM-(3-балла)\"><span class=\"toc-item-num\">2&nbsp;&nbsp;</span>Регрессия с SVM (3 балла)</a></div><div class=\"lev2 toc-item\"><a data-toc-modified-id=\"Визуализация-данных-(1-балл)-2.1\" href=\"#Визуализация-данных-(1-балл)\"><span class=\"toc-item-num\">2.1&nbsp;&nbsp;</span>Визуализация данных (1 балл)</a></div><div class=\"lev2 toc-item\"><a data-toc-modified-id=\"Обучение-моделей-(2-балла)-2.2\" href=\"#Обучение-моделей-(2-балла)\"><span class=\"toc-item-num\">2.2&nbsp;&nbsp;</span>Обучение моделей (2 балла)</a></div><div class=\"lev1 toc-item\"><a data-toc-modified-id=\"Определение-языка-слова-(7-баллов)-3\" href=\"#Определение-языка-слова-(7-баллов)\"><span class=\"toc-item-num\">3&nbsp;&nbsp;</span>Определение языка слова (7 баллов)</a></div><div class=\"lev2 toc-item\"><a data-toc-modified-id=\"Загрузка-(1-балл)-3.1\" href=\"#Загрузка-(1-балл)\"><span class=\"toc-item-num\">3.1&nbsp;&nbsp;</span>Загрузка (1 балл)</a></div><div class=\"lev2 toc-item\"><a data-toc-modified-id=\"Подготовка-данных-(2-балла)-3.2\" href=\"#Подготовка-данных-(2-балла)\"><span class=\"toc-item-num\">3.2&nbsp;&nbsp;</span>Подготовка данных (2 балла)</a></div><div class=\"lev2 toc-item\"><a data-toc-modified-id=\"Расчет-ядра-(3-балла)-3.3\" href=\"#Расчет-ядра-(3-балла)\"><span class=\"toc-item-num\">3.3&nbsp;&nbsp;</span>Расчет ядра (3 балла)</a></div><div class=\"lev2 toc-item\"><a data-toc-modified-id=\"Оценка-качества-(1-балл)-3.4\" href=\"#Оценка-качества-(1-балл)\"><span class=\"toc-item-num\">3.4&nbsp;&nbsp;</span>Оценка качества (1 балл)</a></div>"
   ]
  },
  {
   "cell_type": "markdown",
   "metadata": {},
   "source": [
    "<hr\\>"
   ]
  },
  {
   "cell_type": "code",
   "execution_count": 1,
   "metadata": {
    "collapsed": false
   },
   "outputs": [],
   "source": [
    "import pandas as pd\n",
    "import numpy as np\n",
    "import scipy as sp\n",
    "import matplotlib.pyplot as plt\n",
    "\n",
    "plt.style.use('ggplot')\n",
    "%matplotlib inline"
   ]
  },
  {
   "cell_type": "markdown",
   "metadata": {},
   "source": [
    "# Регрессия с SVM (3 балла)"
   ]
  },
  {
   "cell_type": "markdown",
   "metadata": {},
   "source": [
    "Неудивительно, что принципы SVM так же прекрасно ложатся на задачу регрессии.\n",
    "\n",
    "Загрузите набор данных из *titanium.csv*<br/>\n",
    "Мы будем решать задачу восстановления столбца 'y' по столбцу 'x'."
   ]
  },
  {
   "cell_type": "code",
   "execution_count": 2,
   "metadata": {
    "collapsed": false
   },
   "outputs": [
    {
     "data": {
      "text/html": [
       "<div>\n",
       "<table border=\"1\" class=\"dataframe\">\n",
       "  <thead>\n",
       "    <tr style=\"text-align: right;\">\n",
       "      <th></th>\n",
       "      <th>x</th>\n",
       "      <th>y</th>\n",
       "    </tr>\n",
       "  </thead>\n",
       "  <tbody>\n",
       "    <tr>\n",
       "      <th>0</th>\n",
       "      <td>585.0</td>\n",
       "      <td>0.644</td>\n",
       "    </tr>\n",
       "    <tr>\n",
       "      <th>1</th>\n",
       "      <td>595.0</td>\n",
       "      <td>0.622</td>\n",
       "    </tr>\n",
       "    <tr>\n",
       "      <th>2</th>\n",
       "      <td>605.0</td>\n",
       "      <td>0.638</td>\n",
       "    </tr>\n",
       "    <tr>\n",
       "      <th>3</th>\n",
       "      <td>615.0</td>\n",
       "      <td>0.649</td>\n",
       "    </tr>\n",
       "    <tr>\n",
       "      <th>4</th>\n",
       "      <td>625.0</td>\n",
       "      <td>0.652</td>\n",
       "    </tr>\n",
       "    <tr>\n",
       "      <th>5</th>\n",
       "      <td>635.0</td>\n",
       "      <td>0.639</td>\n",
       "    </tr>\n",
       "    <tr>\n",
       "      <th>6</th>\n",
       "      <td>645.0</td>\n",
       "      <td>0.646</td>\n",
       "    </tr>\n",
       "    <tr>\n",
       "      <th>7</th>\n",
       "      <td>655.0</td>\n",
       "      <td>0.657</td>\n",
       "    </tr>\n",
       "    <tr>\n",
       "      <th>8</th>\n",
       "      <td>665.0</td>\n",
       "      <td>0.652</td>\n",
       "    </tr>\n",
       "    <tr>\n",
       "      <th>9</th>\n",
       "      <td>675.0</td>\n",
       "      <td>0.655</td>\n",
       "    </tr>\n",
       "    <tr>\n",
       "      <th>10</th>\n",
       "      <td>685.0</td>\n",
       "      <td>0.644</td>\n",
       "    </tr>\n",
       "    <tr>\n",
       "      <th>11</th>\n",
       "      <td>695.0</td>\n",
       "      <td>0.663</td>\n",
       "    </tr>\n",
       "    <tr>\n",
       "      <th>12</th>\n",
       "      <td>705.0</td>\n",
       "      <td>0.663</td>\n",
       "    </tr>\n",
       "    <tr>\n",
       "      <th>13</th>\n",
       "      <td>715.0</td>\n",
       "      <td>0.668</td>\n",
       "    </tr>\n",
       "    <tr>\n",
       "      <th>14</th>\n",
       "      <td>725.0</td>\n",
       "      <td>0.676</td>\n",
       "    </tr>\n",
       "    <tr>\n",
       "      <th>15</th>\n",
       "      <td>735.0</td>\n",
       "      <td>0.676</td>\n",
       "    </tr>\n",
       "    <tr>\n",
       "      <th>16</th>\n",
       "      <td>745.0</td>\n",
       "      <td>0.686</td>\n",
       "    </tr>\n",
       "    <tr>\n",
       "      <th>17</th>\n",
       "      <td>755.0</td>\n",
       "      <td>0.679</td>\n",
       "    </tr>\n",
       "    <tr>\n",
       "      <th>18</th>\n",
       "      <td>765.0</td>\n",
       "      <td>0.678</td>\n",
       "    </tr>\n",
       "    <tr>\n",
       "      <th>19</th>\n",
       "      <td>775.0</td>\n",
       "      <td>0.683</td>\n",
       "    </tr>\n",
       "    <tr>\n",
       "      <th>20</th>\n",
       "      <td>785.0</td>\n",
       "      <td>0.694</td>\n",
       "    </tr>\n",
       "    <tr>\n",
       "      <th>21</th>\n",
       "      <td>795.0</td>\n",
       "      <td>0.699</td>\n",
       "    </tr>\n",
       "    <tr>\n",
       "      <th>22</th>\n",
       "      <td>805.0</td>\n",
       "      <td>0.710</td>\n",
       "    </tr>\n",
       "    <tr>\n",
       "      <th>23</th>\n",
       "      <td>815.0</td>\n",
       "      <td>0.730</td>\n",
       "    </tr>\n",
       "    <tr>\n",
       "      <th>24</th>\n",
       "      <td>825.0</td>\n",
       "      <td>0.763</td>\n",
       "    </tr>\n",
       "    <tr>\n",
       "      <th>25</th>\n",
       "      <td>835.0</td>\n",
       "      <td>0.812</td>\n",
       "    </tr>\n",
       "    <tr>\n",
       "      <th>26</th>\n",
       "      <td>845.0</td>\n",
       "      <td>0.907</td>\n",
       "    </tr>\n",
       "    <tr>\n",
       "      <th>27</th>\n",
       "      <td>855.0</td>\n",
       "      <td>1.044</td>\n",
       "    </tr>\n",
       "    <tr>\n",
       "      <th>28</th>\n",
       "      <td>865.0</td>\n",
       "      <td>1.336</td>\n",
       "    </tr>\n",
       "    <tr>\n",
       "      <th>29</th>\n",
       "      <td>875.0</td>\n",
       "      <td>1.881</td>\n",
       "    </tr>\n",
       "    <tr>\n",
       "      <th>30</th>\n",
       "      <td>885.0</td>\n",
       "      <td>2.169</td>\n",
       "    </tr>\n",
       "    <tr>\n",
       "      <th>31</th>\n",
       "      <td>895.0</td>\n",
       "      <td>2.075</td>\n",
       "    </tr>\n",
       "    <tr>\n",
       "      <th>32</th>\n",
       "      <td>905.0</td>\n",
       "      <td>1.598</td>\n",
       "    </tr>\n",
       "    <tr>\n",
       "      <th>33</th>\n",
       "      <td>915.0</td>\n",
       "      <td>1.211</td>\n",
       "    </tr>\n",
       "    <tr>\n",
       "      <th>34</th>\n",
       "      <td>925.0</td>\n",
       "      <td>0.916</td>\n",
       "    </tr>\n",
       "    <tr>\n",
       "      <th>35</th>\n",
       "      <td>935.0</td>\n",
       "      <td>0.746</td>\n",
       "    </tr>\n",
       "    <tr>\n",
       "      <th>36</th>\n",
       "      <td>945.0</td>\n",
       "      <td>0.672</td>\n",
       "    </tr>\n",
       "    <tr>\n",
       "      <th>37</th>\n",
       "      <td>955.0</td>\n",
       "      <td>0.627</td>\n",
       "    </tr>\n",
       "    <tr>\n",
       "      <th>38</th>\n",
       "      <td>965.0</td>\n",
       "      <td>0.615</td>\n",
       "    </tr>\n",
       "    <tr>\n",
       "      <th>39</th>\n",
       "      <td>975.0</td>\n",
       "      <td>0.607</td>\n",
       "    </tr>\n",
       "    <tr>\n",
       "      <th>40</th>\n",
       "      <td>985.0</td>\n",
       "      <td>0.606</td>\n",
       "    </tr>\n",
       "    <tr>\n",
       "      <th>41</th>\n",
       "      <td>995.0</td>\n",
       "      <td>0.609</td>\n",
       "    </tr>\n",
       "    <tr>\n",
       "      <th>42</th>\n",
       "      <td>1005.0</td>\n",
       "      <td>0.603</td>\n",
       "    </tr>\n",
       "    <tr>\n",
       "      <th>43</th>\n",
       "      <td>1015.0</td>\n",
       "      <td>0.601</td>\n",
       "    </tr>\n",
       "    <tr>\n",
       "      <th>44</th>\n",
       "      <td>1025.0</td>\n",
       "      <td>0.603</td>\n",
       "    </tr>\n",
       "    <tr>\n",
       "      <th>45</th>\n",
       "      <td>1035.0</td>\n",
       "      <td>0.601</td>\n",
       "    </tr>\n",
       "    <tr>\n",
       "      <th>46</th>\n",
       "      <td>1045.0</td>\n",
       "      <td>0.611</td>\n",
       "    </tr>\n",
       "    <tr>\n",
       "      <th>47</th>\n",
       "      <td>1055.0</td>\n",
       "      <td>0.601</td>\n",
       "    </tr>\n",
       "    <tr>\n",
       "      <th>48</th>\n",
       "      <td>1065.0</td>\n",
       "      <td>0.608</td>\n",
       "    </tr>\n",
       "  </tbody>\n",
       "</table>\n",
       "</div>"
      ],
      "text/plain": [
       "         x      y\n",
       "0    585.0  0.644\n",
       "1    595.0  0.622\n",
       "2    605.0  0.638\n",
       "3    615.0  0.649\n",
       "4    625.0  0.652\n",
       "5    635.0  0.639\n",
       "6    645.0  0.646\n",
       "7    655.0  0.657\n",
       "8    665.0  0.652\n",
       "9    675.0  0.655\n",
       "10   685.0  0.644\n",
       "11   695.0  0.663\n",
       "12   705.0  0.663\n",
       "13   715.0  0.668\n",
       "14   725.0  0.676\n",
       "15   735.0  0.676\n",
       "16   745.0  0.686\n",
       "17   755.0  0.679\n",
       "18   765.0  0.678\n",
       "19   775.0  0.683\n",
       "20   785.0  0.694\n",
       "21   795.0  0.699\n",
       "22   805.0  0.710\n",
       "23   815.0  0.730\n",
       "24   825.0  0.763\n",
       "25   835.0  0.812\n",
       "26   845.0  0.907\n",
       "27   855.0  1.044\n",
       "28   865.0  1.336\n",
       "29   875.0  1.881\n",
       "30   885.0  2.169\n",
       "31   895.0  2.075\n",
       "32   905.0  1.598\n",
       "33   915.0  1.211\n",
       "34   925.0  0.916\n",
       "35   935.0  0.746\n",
       "36   945.0  0.672\n",
       "37   955.0  0.627\n",
       "38   965.0  0.615\n",
       "39   975.0  0.607\n",
       "40   985.0  0.606\n",
       "41   995.0  0.609\n",
       "42  1005.0  0.603\n",
       "43  1015.0  0.601\n",
       "44  1025.0  0.603\n",
       "45  1035.0  0.601\n",
       "46  1045.0  0.611\n",
       "47  1055.0  0.601\n",
       "48  1065.0  0.608"
      ]
     },
     "execution_count": 2,
     "metadata": {},
     "output_type": "execute_result"
    }
   ],
   "source": [
    "titanium = pd.read_csv(\"titanium.csv\")\n",
    "titan_data = titanium.x\n",
    "titan_target = titanium.y\n",
    "titanium"
   ]
  },
  {
   "cell_type": "markdown",
   "metadata": {},
   "source": [
    "## Визуализация данных (1 балл)"
   ]
  },
  {
   "cell_type": "markdown",
   "metadata": {},
   "source": [
    "Выполните стандартную предобработку данных и выведите их на графике."
   ]
  },
  {
   "cell_type": "code",
   "execution_count": 3,
   "metadata": {
    "collapsed": false
   },
   "outputs": [
    {
     "data": {
      "text/plain": [
       "<matplotlib.text.Text at 0x7f25fe4f9e80>"
      ]
     },
     "execution_count": 3,
     "metadata": {},
     "output_type": "execute_result"
    },
    {
     "data": {
      "image/png": "[encoded data removed]",
      "text/plain": [
       "<matplotlib.figure.Figure at 0x7f26008bb278>"
      ]
     },
     "metadata": {},
     "output_type": "display_data"
    }
   ],
   "source": [
    "fig, (ax1, ax2) = plt.subplots(nrows=1, ncols=2, sharey=True, figsize=(16, 5))\n",
    "ax1.scatter(titan_data, titan_target)\n",
    "ax1.set_title(\"Scatter of X, Y\")\n",
    "ax2.hist(titan_data, bins = len(titan_data.unique()))\n",
    "# unique() для совпадения кол-ва \"корзин\" и принимаемых значений\n",
    "ax2.set_title(\"Distribution of X\")"
   ]
  },
  {
   "cell_type": "code",
   "execution_count": 4,
   "metadata": {
    "collapsed": false
   },
   "outputs": [
    {
     "data": {
      "text/plain": [
       "<matplotlib.text.Text at 0x7f25fe1ae080>"
      ]
     },
     "execution_count": 4,
     "metadata": {},
     "output_type": "execute_result"
    },
    {
     "data": {
      "image/png": "[encoded data removed]",
      "text/plain": [
       "<matplotlib.figure.Figure at 0x7f26008bbe80>"
      ]
     },
     "metadata": {},
     "output_type": "display_data"
    }
   ],
   "source": [
    "plt.figure(figsize=(7.3, 5))\n",
    "plt.hist(titan_target, bins = len(titan_target.unique()))\n",
    "plt.title(\"Distribution of target variable Y\")"
   ]
  },
  {
   "cell_type": "code",
   "execution_count": 5,
   "metadata": {
    "collapsed": true
   },
   "outputs": [],
   "source": [
    "from sklearn.preprocessing import StandardScaler"
   ]
  },
  {
   "cell_type": "code",
   "execution_count": 6,
   "metadata": {
    "collapsed": false
   },
   "outputs": [
    {
     "data": {
      "text/plain": [
       "<matplotlib.text.Text at 0x7f25f6f82710>"
      ]
     },
     "execution_count": 6,
     "metadata": {},
     "output_type": "execute_result"
    },
    {
     "data": {
      "image/png": "[encoded data removed]",
      "text/plain": [
       "<matplotlib.figure.Figure at 0x7f25f72eb9b0>"
      ]
     },
     "metadata": {},
     "output_type": "display_data"
    }
   ],
   "source": [
    "correlation_matrix = titanium.corr()\n",
    "plt.figure(figsize = (4, 4))\n",
    "plt.imshow(correlation_matrix, cmap='seismic', interpolation='nearest', vmin=-1, vmax=1, )\n",
    "plt.colorbar()\n",
    "plt.title(\"Correlation\")\n",
    "#на корреляцию не влияет масштаб"
   ]
  },
  {
   "cell_type": "markdown",
   "metadata": {},
   "source": [
    "## Обучение моделей (2 балла)"
   ]
  },
  {
   "cell_type": "markdown",
   "metadata": {},
   "source": [
    "Рассмотрите 3 ядра: \n",
    "* Линейное\n",
    "* Полиномиальное (degree = 3, gamma = 6, coef0 = 1)\n",
    "* RBF (gamma = 6, coef0 = 1)\n",
    "\n",
    "Во всех случаях установить ширину трубки `epsilon=0.01`\n",
    "\n",
    "Для каждого из ядер:\n",
    "1. Постройте графики зависимости ошибки от параметра $C$ (ось графика со значениями параметра $C$ должна быть в логарифмической шкале). Ошибка измеряется как средняя абсолютная ошибка. \n",
    "2. Для наулучшего параметра $С$ постройте график с данными и предстазанием по svm\n",
    "\n",
    "В каких случаях возникает эффекты недообучения, переобучения?"
   ]
  },
  {
   "cell_type": "code",
   "execution_count": 7,
   "metadata": {
    "collapsed": true
   },
   "outputs": [],
   "source": [
    "from sklearn.svm import LinearSVR\n",
    "from sklearn.svm import SVR\n",
    "from sklearn.metrics import mean_absolute_error\n",
    "from sklearn.cross_validation import train_test_split\n",
    "from sklearn.grid_search import GridSearchCV"
   ]
  },
  {
   "cell_type": "code",
   "execution_count": 12,
   "metadata": {
    "collapsed": false
   },
   "outputs": [],
   "source": [
    "def train_SVR(data, target, kernel, gamma='auto', coef0=0.0, epsilon=0.01):\n",
    "    \n",
    "    X_train, X_test, y_train, y_test = train_test_split(data, target, test_size=0.25, random_state = 42)\n",
    "    \n",
    "    #param_grid = {\"C\" : [.001, .01, .1, 1e0, 1e1, 1e2]}\n",
    "    param_grid = {'kernel':('rbf','linear', 'sigmoid'), 'C':[1, 10,100,1000,10000],'gamma':[3, 6, 9]}\n",
    "    \n",
    "    svr_grid = GridSearchCV(SVR(), \n",
    "                            param_grid, cv = 3, verbose=5)\n",
    "    \n",
    "    svr_grid.fit(X_train, y_train)\n",
    "    \n",
    "    preds = svr_grid.best_estimator_.predict(data)\n",
    "    \n",
    "    print(\"MSE: \", mean_absolute_error(y_test, preds))\n",
    "    plt.scatter(X_train, y_train, marker='o')\n",
    "    plt.plot(data, preds, label=kernel)\n",
    "    plt.legend()\n",
    "    \n",
    "    scores = [x[1] for x in svr_grid.grid_scores_]\n",
    "    scores = np.array(scores).reshape(len(param_grid[\"C\"]))\n",
    "    \n",
    "    plt.figure(figsize=(16, 9))\n",
    "    plt.plot(scores)\n",
    "    plt.xlabel('C')\n",
    "    plt.ylabel('Score')\n",
    "    plt.title(\"Score depending on C parameter with 3 folds\")\n",
    "    "
   ]
  },
  {
   "cell_type": "code",
   "execution_count": 9,
   "metadata": {
    "collapsed": false,
    "scrolled": false
   },
   "outputs": [],
   "source": [
    "titan_data = np.array(titan_data).reshape(-1,1)\n",
    "titan_target = np.array(titan_target)\n",
    "#train_SVR(titan_data, titan_target, 'linear')\n",
    "#train_SVR(titan_data, titan_target, \"poly\", 6, 1)\n",
    "#train_SVR(titan_data, titan_target, \"rbf\", 6, 1)"
   ]
  },
  {
   "cell_type": "code",
   "execution_count": null,
   "metadata": {
    "collapsed": false,
    "scrolled": false
   },
   "outputs": [
    {
     "name": "stdout",
     "output_type": "stream",
     "text": [
      "Fitting 3 folds for each of 45 candidates, totalling 135 fits\n",
      "[CV] gamma=3, C=1, kernel=rbf ........................................\n",
      "[CV] .............. gamma=3, C=1, kernel=rbf, score=-0.002509 -   0.2s\n",
      "[CV] gamma=3, C=1, kernel=rbf ........................................\n",
      "[CV] .............. gamma=3, C=1, kernel=rbf, score=-0.000011 -   0.0s\n",
      "[CV] gamma=3, C=1, kernel=rbf ........................................\n",
      "[CV] .............. gamma=3, C=1, kernel=rbf, score=-0.856599 -   0.0s\n",
      "[CV] gamma=3, C=1, kernel=linear .....................................\n",
      "[CV] ........... gamma=3, C=1, kernel=linear, score=-0.074438 -   0.8s\n",
      "[CV] gamma=3, C=1, kernel=linear .....................................\n",
      "[CV] ........... gamma=3, C=1, kernel=linear, score=-0.096255 -   0.5s\n",
      "[CV] gamma=3, C=1, kernel=linear .....................................\n",
      "[CV] ............ gamma=3, C=1, kernel=linear, score=0.004272 -   0.3s\n",
      "[CV] gamma=3, C=1, kernel=sigmoid ....................................\n",
      "[CV] .......... gamma=3, C=1, kernel=sigmoid, score=-0.076682 -   0.0s\n",
      "[CV] gamma=3, C=1, kernel=sigmoid ....................................\n",
      "[CV] .......... gamma=3, C=1, kernel=sigmoid, score=-0.098035 -   0.0s\n",
      "[CV] gamma=3, C=1, kernel=sigmoid ....................................\n",
      "[CV] .......... gamma=3, C=1, kernel=sigmoid, score=-0.000301 -   0.0s\n",
      "[CV] gamma=6, C=1, kernel=rbf ........................................\n",
      "[CV] .............. gamma=6, C=1, kernel=rbf, score=-0.002509 -   0.0s\n",
      "[CV] gamma=6, C=1, kernel=rbf ........................................\n",
      "[CV] .............. gamma=6, C=1, kernel=rbf, score=-0.000011 -   0.0s\n",
      "[CV] gamma=6, C=1, kernel=rbf ........................................\n",
      "[CV] .............. gamma=6, C=1, kernel=rbf, score=-0.856599 -   0.0s\n",
      "[CV] gamma=6, C=1, kernel=linear .....................................\n",
      "[CV] ........... gamma=6, C=1, kernel=linear, score=-0.074438 -   0.7s\n",
      "[CV] gamma=6, C=1, kernel=linear .....................................\n",
      "[CV] ........... gamma=6, C=1, kernel=linear, score=-0.096255 -   0.7s\n",
      "[CV] gamma=6, C=1, kernel=linear .....................................\n",
      "[CV] ............ gamma=6, C=1, kernel=linear, score=0.004272 -   0.3s\n",
      "[CV] gamma=6, C=1, kernel=sigmoid ....................................\n",
      "[CV] .......... gamma=6, C=1, kernel=sigmoid, score=-0.076682 -   0.0s\n",
      "[CV] gamma=6, C=1, kernel=sigmoid ....................................\n",
      "[CV] .......... gamma=6, C=1, kernel=sigmoid, score=-0.098035 -   0.0s\n",
      "[CV] gamma=6, C=1, kernel=sigmoid ....................................\n",
      "[CV] .......... gamma=6, C=1, kernel=sigmoid, score=-0.000301 -   0.0s\n",
      "[CV] gamma=9, C=1, kernel=rbf ........................................\n",
      "[CV] .............. gamma=9, C=1, kernel=rbf, score=-0.002509 -   0.0s\n",
      "[CV] gamma=9, C=1, kernel=rbf ........................................\n",
      "[CV] .............. gamma=9, C=1, kernel=rbf, score=-0.000011 -   0.0s\n",
      "[CV] gamma=9, C=1, kernel=rbf ........................................\n",
      "[CV] .............. gamma=9, C=1, kernel=rbf, score=-0.856599 -   0.0s\n",
      "[CV] gamma=9, C=1, kernel=linear .....................................\n"
     ]
    },
    {
     "name": "stderr",
     "output_type": "stream",
     "text": [
      "[Parallel(n_jobs=1)]: Done  17 tasks       | elapsed:    3.6s\n"
     ]
    },
    {
     "name": "stdout",
     "output_type": "stream",
     "text": [
      "[CV] ........... gamma=9, C=1, kernel=linear, score=-0.074438 -   0.8s\n",
      "[CV] gamma=9, C=1, kernel=linear .....................................\n",
      "[CV] ........... gamma=9, C=1, kernel=linear, score=-0.096255 -   0.6s\n",
      "[CV] gamma=9, C=1, kernel=linear .....................................\n",
      "[CV] ............ gamma=9, C=1, kernel=linear, score=0.004272 -   0.3s\n",
      "[CV] gamma=9, C=1, kernel=sigmoid ....................................\n",
      "[CV] .......... gamma=9, C=1, kernel=sigmoid, score=-0.076682 -   0.0s\n",
      "[CV] gamma=9, C=1, kernel=sigmoid ....................................\n",
      "[CV] .......... gamma=9, C=1, kernel=sigmoid, score=-0.098035 -   0.0s\n",
      "[CV] gamma=9, C=1, kernel=sigmoid ....................................\n",
      "[CV] .......... gamma=9, C=1, kernel=sigmoid, score=-0.000301 -   0.0s\n",
      "[CV] gamma=3, C=10, kernel=rbf .......................................\n",
      "[CV] ............. gamma=3, C=10, kernel=rbf, score=-0.002509 -   0.0s\n",
      "[CV] gamma=3, C=10, kernel=rbf .......................................\n",
      "[CV] ............. gamma=3, C=10, kernel=rbf, score=-0.000468 -   0.0s\n",
      "[CV] gamma=3, C=10, kernel=rbf .......................................\n",
      "[CV] ............. gamma=3, C=10, kernel=rbf, score=-0.929502 -   0.0s\n",
      "[CV] gamma=3, C=10, kernel=linear ....................................\n",
      "[CV] .......... gamma=3, C=10, kernel=linear, score=-0.074438 -   6.1s\n",
      "[CV] gamma=3, C=10, kernel=linear ....................................\n",
      "[CV] .......... gamma=3, C=10, kernel=linear, score=-0.096255 -   7.2s\n",
      "[CV] gamma=3, C=10, kernel=linear ....................................\n",
      "[CV] ........... gamma=3, C=10, kernel=linear, score=0.004272 -   2.5s\n",
      "[CV] gamma=3, C=10, kernel=sigmoid ...................................\n",
      "[CV] ......... gamma=3, C=10, kernel=sigmoid, score=-0.076682 -   0.0s\n",
      "[CV] gamma=3, C=10, kernel=sigmoid ...................................\n",
      "[CV] ......... gamma=3, C=10, kernel=sigmoid, score=-0.098035 -   0.0s\n",
      "[CV] gamma=3, C=10, kernel=sigmoid ...................................\n",
      "[CV] ......... gamma=3, C=10, kernel=sigmoid, score=-0.000301 -   0.0s\n",
      "[CV] gamma=6, C=10, kernel=rbf .......................................\n",
      "[CV] ............. gamma=6, C=10, kernel=rbf, score=-0.002509 -   0.0s\n",
      "[CV] gamma=6, C=10, kernel=rbf .......................................\n",
      "[CV] ............. gamma=6, C=10, kernel=rbf, score=-0.000468 -   0.0s\n",
      "[CV] gamma=6, C=10, kernel=rbf .......................................\n",
      "[CV] ............. gamma=6, C=10, kernel=rbf, score=-0.929502 -   0.0s\n",
      "[CV] gamma=6, C=10, kernel=linear ....................................\n",
      "[CV] .......... gamma=6, C=10, kernel=linear, score=-0.074438 -   6.6s\n",
      "[CV] gamma=6, C=10, kernel=linear ....................................\n",
      "[CV] .......... gamma=6, C=10, kernel=linear, score=-0.096255 -   7.1s\n",
      "[CV] gamma=6, C=10, kernel=linear ....................................\n",
      "[CV] ........... gamma=6, C=10, kernel=linear, score=0.004272 -   2.3s\n",
      "[CV] gamma=6, C=10, kernel=sigmoid ...................................\n",
      "[CV] ......... gamma=6, C=10, kernel=sigmoid, score=-0.076682 -   0.0s\n",
      "[CV] gamma=6, C=10, kernel=sigmoid ...................................\n",
      "[CV] ......... gamma=6, C=10, kernel=sigmoid, score=-0.098035 -   0.0s\n",
      "[CV] gamma=6, C=10, kernel=sigmoid ...................................\n",
      "[CV] ......... gamma=6, C=10, kernel=sigmoid, score=-0.000301 -   0.0s\n",
      "[CV] gamma=9, C=10, kernel=rbf .......................................\n",
      "[CV] ............. gamma=9, C=10, kernel=rbf, score=-0.002509 -   0.0s\n",
      "[CV] gamma=9, C=10, kernel=rbf .......................................\n",
      "[CV] ............. gamma=9, C=10, kernel=rbf, score=-0.000468 -   0.0s\n",
      "[CV] gamma=9, C=10, kernel=rbf .......................................\n",
      "[CV] ............. gamma=9, C=10, kernel=rbf, score=-0.929502 -   0.0s\n",
      "[CV] gamma=9, C=10, kernel=linear ....................................\n",
      "[CV] .......... gamma=9, C=10, kernel=linear, score=-0.074438 -   6.0s\n",
      "[CV] gamma=9, C=10, kernel=linear ....................................\n",
      "[CV] .......... gamma=9, C=10, kernel=linear, score=-0.096255 -   7.1s\n",
      "[CV] gamma=9, C=10, kernel=linear ....................................\n",
      "[CV] ........... gamma=9, C=10, kernel=linear, score=0.004272 -   2.2s\n",
      "[CV] gamma=9, C=10, kernel=sigmoid ...................................\n",
      "[CV] ......... gamma=9, C=10, kernel=sigmoid, score=-0.076682 -   0.0s\n",
      "[CV] gamma=9, C=10, kernel=sigmoid ...................................\n",
      "[CV] ......... gamma=9, C=10, kernel=sigmoid, score=-0.098035 -   0.0s\n",
      "[CV] gamma=9, C=10, kernel=sigmoid ...................................\n",
      "[CV] ......... gamma=9, C=10, kernel=sigmoid, score=-0.000301 -   0.0s\n",
      "[CV] gamma=3, C=100, kernel=rbf ......................................\n",
      "[CV] ............ gamma=3, C=100, kernel=rbf, score=-0.002509 -   0.0s\n",
      "[CV] gamma=3, C=100, kernel=rbf ......................................\n",
      "[CV] ............ gamma=3, C=100, kernel=rbf, score=-0.000468 -   0.0s\n",
      "[CV] gamma=3, C=100, kernel=rbf ......................................\n",
      "[CV] ............ gamma=3, C=100, kernel=rbf, score=-0.929502 -   0.0s\n",
      "[CV] gamma=3, C=100, kernel=linear ...................................\n",
      "[CV] ......... gamma=3, C=100, kernel=linear, score=-0.074438 - 1.4min\n",
      "[CV] gamma=3, C=100, kernel=linear ...................................\n",
      "[CV] ......... gamma=3, C=100, kernel=linear, score=-0.096210 -  59.3s\n",
      "[CV] gamma=3, C=100, kernel=linear ...................................\n"
     ]
    }
   ],
   "source": [
    "train_SVR(titan_data, titan_target, \"rbf\", 6, 1)"
   ]
  },
  {
   "cell_type": "code",
   "execution_count": null,
   "metadata": {
    "collapsed": false
   },
   "outputs": [],
   "source": [
    "\n"
   ]
  },
  {
   "cell_type": "code",
   "execution_count": null,
   "metadata": {
    "collapsed": false
   },
   "outputs": [],
   "source": [
    "len(param_grid[\"C\"])"
   ]
  },
  {
   "cell_type": "markdown",
   "metadata": {},
   "source": [
    "# Определение языка слова (7 баллов)"
   ]
  },
  {
   "cell_type": "markdown",
   "metadata": {},
   "source": [
    "В данном задании вам необходимо определить, на каком языке написано слово.\n",
    "\n",
    "Вам будет дано два текста - первые предложения произведения \"Война и Мир\" на английком и испанском, разбитые на слова. У слов нет общепринятого числового представления, поэтому мы предлагаем вам реализовать собственноге ядро для SVM, основанное на редакторском расстоянии или [расстоянии Левенштейна](https://ru.wikipedia.org/wiki/%D0%A0%D0%B0%D1%81%D1%81%D1%82%D0%BE%D1%8F%D0%BD%D0%B8%D0%B5_%D0%9B%D0%B5%D0%B2%D0%B5%D0%BD%D1%88%D1%82%D0%B5%D0%B9%D0%BD%D0%B0). \n",
    "\n",
    "Имплементировать расстояние Леванштейна не нужно - можно взять любую доступную реализацию, например [здесь](https://github.com/toastdriven/pylev) или [здесь](https://github.com/ztane/python-Levenshtein)."
   ]
  },
  {
   "cell_type": "markdown",
   "metadata": {},
   "source": [
    "## Загрузка (1 балл)\n",
    "\n",
    "Загрузите данные из файлов *war_and_peace_es.txt* и *war_and_peace_en.txt*.<br/> \n",
    "В результате вы должны получить pandas.DataFrame со столбцами *index* | *word* | *label*, где *index* - это индекс pandas, *word* - это слово и *label* - это метка класса (0 или 1)"
   ]
  },
  {
   "cell_type": "code",
   "execution_count": null,
   "metadata": {
    "collapsed": false
   },
   "outputs": [],
   "source": [
    "# like this\n",
    "\n",
    "df.head()"
   ]
  },
  {
   "cell_type": "markdown",
   "metadata": {},
   "source": [
    "## Подготовка данных (2 балла)\n",
    "\n",
    "Особенностью пользовательского ядра в sklean.SVC является то, что на вход оно должно принимать именно вектора чисел.<br/>\n",
    "В нашем случае это будут индексы соответствующих слов из корпуса. То есть вместо вектора ['treat', 'celebrit', 'prince', ...] на вход в ядро подается вектор из индексов [9209, 11145, 7735, ...] с помощью которых вы будете находить сами слова.\n",
    "\n",
    "Прежде чем мы начнем строить ядро, надо подготовить данные. Для этого:\n",
    "1. Задайте переменную RND_SEED, которая будет использоваться в любых генераторах случайных чисел в вашем коде (обычно параметр \"random_seed\")\n",
    "2. Случайным образом перемешайте и заново проиндексируйте таблицу, полученную выше (используйте методы df.sample() и df.reset_index())\n",
    "3. Ядро может вычисляться достаточно долго, поэтому можете урезать таблицу, но оставить в ней не менее 1000 слов.\n",
    "4. Разбейте данные на обучающую и контрольную выборку в пропорции 60/40\n",
    "\n",
    "В результате вы должны получить вектор-столбец X_train, X_test с **индексами** слов и векторы y_train, y_test с метками классов."
   ]
  },
  {
   "cell_type": "code",
   "execution_count": null,
   "metadata": {
    "collapsed": true
   },
   "outputs": [],
   "source": [
    "from sklearn.cross_validation import train_test_split"
   ]
  },
  {
   "cell_type": "code",
   "execution_count": null,
   "metadata": {
    "collapsed": false
   },
   "outputs": [],
   "source": [
    "RND_SEED = \n"
   ]
  },
  {
   "cell_type": "markdown",
   "metadata": {},
   "source": [
    "## Расчет ядра (3 балла)\n",
    "\n",
    "Некоторые указания по составлению пользовательского ядра можно найти [здесь](http://stackoverflow.com/questions/26962159/how-to-use-a-custom-svm-kernel).\n",
    "\n",
    "Если в двух словах:<br/>\n",
    "Функция, реазлизующая расчет ядра должна принимать две матрицы $U$ и $V$ с признаковым описанием объектов (во време обучения они обе относятся к обучающей выборке, а во время применения - одна матрица относится к обучающей выборке, а другая к контрольной).\n",
    "\n",
    "В результате, функция должна возвращать матрицу ядра $G_{ij} = K(U_i, V_j)$.\n",
    "\n",
    "Таким образом, в этом задании вам надо:\n",
    "1. Написать функцию *string_kernel(U, V)*, расчитывающее матрицу ядра $G_{ij}$\n",
    "2. Визуализировать матрицу только для обучающей выборки (функция plt.imshow()).\n",
    "\n",
    "**ВАЖНО**<br/>\n",
    "На лекции мы рассмотрели, что ядро должно обладать определенными свойствами, поэтому не получится рассчитать $G_{ij}$ как расстояние Левенштейна между словами $\\text{word}_i$ и $\\text{word}_j$.<br/>\n",
    "Вместо этого используйте какое-нибудь готовое ядро, зависящее от расстояние между объектами."
   ]
  },
  {
   "cell_type": "code",
   "execution_count": null,
   "metadata": {
    "collapsed": true
   },
   "outputs": [],
   "source": []
  },
  {
   "cell_type": "markdown",
   "metadata": {},
   "source": [
    "## Оценка качества (1 балл)\n",
    "\n",
    "Обучите метод опорных векторов с различными значениями параметра штрафа $C$.<br/>\n",
    "Для каждого значения выведите accuracy на обучащюей и контрольной выборке.\n",
    "\n",
    "Постарайтесь достичь качества в 70% на тестовой выборке"
   ]
  },
  {
   "cell_type": "code",
   "execution_count": null,
   "metadata": {
    "collapsed": true
   },
   "outputs": [],
   "source": [
    "from sklearn.metrics import accuracy_score"
   ]
  },
  {
   "cell_type": "code",
   "execution_count": null,
   "metadata": {
    "collapsed": true
   },
   "outputs": [],
   "source": []
  }
 ],
 "metadata": {
  "anaconda-cloud": {},
  "kernelspec": {
   "display_name": "Python [Root]",
   "language": "python",
   "name": "Python [Root]"
  },
  "language_info": {
   "codemirror_mode": {
    "name": "ipython",
    "version": 3
   },
   "file_extension": ".py",
   "mimetype": "text/x-python",
   "name": "python",
   "nbconvert_exporter": "python",
   "pygments_lexer": "ipython3",
   "version": "3.5.2"
  },
  "nav_menu": {},
  "toc": {
   "navigate_menu": true,
   "number_sections": true,
   "sideBar": true,
   "threshold": 6,
   "toc_cell": true,
   "toc_section_display": "block",
   "toc_window_display": true
  }
 },
 "nbformat": 4,
 "nbformat_minor": 1
}
