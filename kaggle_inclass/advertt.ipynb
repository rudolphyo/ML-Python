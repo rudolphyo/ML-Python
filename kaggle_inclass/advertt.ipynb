{
 "cells": [
  {
   "cell_type": "code",
   "execution_count": 1,
   "metadata": {
    "collapsed": false
   },
   "outputs": [
    {
     "name": "stderr",
     "output_type": "stream",
     "text": [
      "/home/rudolph/anaconda3/lib/python3.5/site-packages/sklearn/cross_validation.py:44: DeprecationWarning: This module was deprecated in version 0.18 in favor of the model_selection module into which all the refactored classes and functions are moved. Also note that the interface of the new CV iterators are different from that of this module. This module will be removed in 0.20.\n",
      "  \"This module will be removed in 0.20.\", DeprecationWarning)\n"
     ]
    }
   ],
   "source": [
    "import pandas as pd\n",
    "import numpy as np\n",
    "import scipy as sp\n",
    "import matplotlib.pylab as plt\n",
    "import xgboost as xgb\n",
    "\n",
    "\n",
    "%matplotlib inline\n",
    "plt.style.use('ggplot')"
   ]
  },
  {
   "cell_type": "code",
   "execution_count": 6,
   "metadata": {
    "collapsed": false
   },
   "outputs": [
    {
     "name": "stdout",
     "output_type": "stream",
     "text": [
      "Shapes of data: (27594, 20) (13593, 20) (27594, 1)\n",
      "Proportion train/test:  2\n"
     ]
    }
   ],
   "source": [
    "train_data = pd.read_csv(\"train_data.csv\")\n",
    "test_data = pd.read_csv(\"test_data.csv\").drop(\"Unnamed: 0\", axis=1)\n",
    "train_target = pd.read_csv(\"train_target.csv\")\n",
    "\n",
    "print(\"Shapes of data:\", train_data.shape, test_data.shape, train_target.shape)\n",
    "print(\"Proportion train/test: \", int(train_data.shape[0]/test_data.shape[0]))"
   ]
  },
  {
   "cell_type": "code",
   "execution_count": null,
   "metadata": {
    "collapsed": false
   },
   "outputs": [],
   "source": [
    "yes_indexes = train_target[train_target[\"1\"]==1].index\n",
    "no_indexes = train_target[train_target[\"1\"]==0].index"
   ]
  },
  {
   "cell_type": "code",
   "execution_count": null,
   "metadata": {
    "collapsed": false
   },
   "outputs": [],
   "source": [
    "new_train_yes = train_data.iloc[yes_indexes]\n",
    "new_train_no = train_data.iloc[no_indexes][:int(2*len(new_train_yes))]\n",
    "new_train_data = pd.concat([new_train_no, new_train_yes], axis=0).reset_index().drop(\"index\", axis=1)\n",
    "new_train_target = pd.concat([train_target.iloc[no_indexes][:int(2*len(new_train_yes))], train_target.iloc[yes_indexes]], axis=0).reset_index().drop(\"index\", axis=1)"
   ]
  },
  {
   "cell_type": "code",
   "execution_count": null,
   "metadata": {
    "collapsed": false
   },
   "outputs": [],
   "source": []
  },
  {
   "cell_type": "markdown",
   "metadata": {},
   "source": [
    "### Preprocessing"
   ]
  },
  {
   "cell_type": "code",
   "execution_count": 7,
   "metadata": {
    "collapsed": false
   },
   "outputs": [],
   "source": [
    "from sklearn.preprocessing import LabelEncoder, OneHotEncoder\n",
    "from pandas import get_dummies"
   ]
  },
  {
   "cell_type": "code",
   "execution_count": 8,
   "metadata": {
    "collapsed": false
   },
   "outputs": [],
   "source": [
    "le = LabelEncoder()\n",
    "enc_train_data = np.array(pd.get_dummies(train_data.apply(le.fit_transform)))"
   ]
  },
  {
   "cell_type": "code",
   "execution_count": 9,
   "metadata": {
    "collapsed": false
   },
   "outputs": [],
   "source": [
    "train_target = np.array(train_target)\n",
    "c, r = train_target.shape\n",
    "train_target = train_target.reshape(c,)"
   ]
  },
  {
   "cell_type": "code",
   "execution_count": null,
   "metadata": {
    "collapsed": false
   },
   "outputs": [],
   "source": []
  },
  {
   "cell_type": "markdown",
   "metadata": {},
   "source": [
    "### XGBoost"
   ]
  },
  {
   "cell_type": "code",
   "execution_count": 18,
   "metadata": {
    "collapsed": false
   },
   "outputs": [],
   "source": [
    "from sklearn.grid_search import GridSearchCV\n",
    "from sklearn.cross_validation import train_test_split, StratifiedKFold, cross_val_score\n",
    "from sklearn.metrics import roc_auc_score, accuracy_score, roc_curve, auc\n"
   ]
  },
  {
   "cell_type": "code",
   "execution_count": 25,
   "metadata": {
    "collapsed": false
   },
   "outputs": [],
   "source": [
    "def xgb_best_params(data, target):\n",
    "    \n",
    "    X_train, X_test, y_train, y_test = train_test_split(data, target, test_size=0.33, random_state=442)\n",
    "    \"\"\"skf = StratifiedKFold(target, n_folds=10, random_state=7)\n",
    "    \n",
    "    for train_index, test_index in skf:\n",
    "        X_train, X_test = data[train_index], data[test_index]\n",
    "        y_train, y_test = target[train_index], target[test_index]\n",
    "    \"\"\"\n",
    "    \n",
    "    gbm = xgb.XGBClassifier(n_estimators=100, max_depth=7, max_delta_step=3)\n",
    "    gbm.fit(X_train, y_train, eval_metric='auc')\n",
    "    \n",
    "    predictions = gbm.predict_proba(X_test)\n",
    "    \n",
    "    fpr, tpr, thresholds = roc_curve(y_test, predictions[:, 1], pos_label=1)\n",
    "    print(\"AUC : %.4g\" % auc(fpr, tpr))\n",
    "    "
   ]
  },
  {
   "cell_type": "code",
   "execution_count": 28,
   "metadata": {
    "collapsed": false
   },
   "outputs": [],
   "source": [
    "def xgb_grid_search(data, target):\n",
    "    \n",
    "    X_train, X_test, y_train, y_test = train_test_split(data, target, test_size=0.33, random_state=442)\n",
    "   \n",
    "    \"\"\"sfk = StratifiedKFold(target, n_folds=5)\n",
    "    for train_index, test_index in sfk:\n",
    "        X_train, X_test = X[train_index], X[test_index]\n",
    "        y_train, y_test = y[train_index], y[test_index]\n",
    "        \"\"\"\n",
    "    \n",
    "    gbm_params = {\n",
    "        'n_estimators': [100, 150, 250, 350, 400],\n",
    "        'learning_rate': [0.1, 0.3]\n",
    "    }\n",
    "\n",
    "    print(\"GridSeachCV proceeding...\")\n",
    "    gbm = GridSearchCV(xgb.XGBClassifier(max_depth=5, min_child_weight=1, gamma=0,\n",
    "                                         subsample=0.8, colsample_bytree=8, scale_pos_weight=1), gbm_params, n_jobs=3, cv=5, verbose=2)\n",
    "    gbm.fit(X_train, y_train)\n",
    "    print(\"Done.\")\n",
    "    \n",
    "    print(101*\"=\"+ \"\\nBEST PARAMETERS: \", gbm.best_params_, \"\\n\"+101*\"=\"+\"\\n\")\n",
    "    predictions = gbm.predict_proba(X_test)\n",
    "    \n",
    "    fpr, tpr, thresholds = roc_curve(y_test, predictions[:, 1], pos_label=1)\n",
    "    print(\"AUC : %.4g\" % auc(fpr, tpr))\n",
    "    "
   ]
  },
  {
   "cell_type": "code",
   "execution_count": 21,
   "metadata": {
    "collapsed": false
   },
   "outputs": [
    {
     "ename": "NameError",
     "evalue": "name 'new_train_data' is not defined",
     "output_type": "error",
     "traceback": [
      "\u001b[1;31m---------------------------------------------------------------------------\u001b[0m",
      "\u001b[1;31mNameError\u001b[0m                                 Traceback (most recent call last)",
      "\u001b[1;32m<ipython-input-21-59e2451fee0e>\u001b[0m in \u001b[0;36m<module>\u001b[1;34m()\u001b[0m\n\u001b[1;32m----> 1\u001b[1;33m \u001b[0msubmission\u001b[0m \u001b[1;33m=\u001b[0m \u001b[0mxgb_best_params\u001b[0m\u001b[1;33m(\u001b[0m\u001b[0mnew_train_data\u001b[0m\u001b[1;33m,\u001b[0m \u001b[0mnew_train_target\u001b[0m\u001b[1;33m)\u001b[0m\u001b[1;33m\u001b[0m\u001b[0m\n\u001b[0m",
      "\u001b[1;31mNameError\u001b[0m: name 'new_train_data' is not defined"
     ]
    }
   ],
   "source": [
    "submission = xgb_best_params(new_train_data, new_train_target)"
   ]
  },
  {
   "cell_type": "code",
   "execution_count": null,
   "metadata": {
    "collapsed": false
   },
   "outputs": [],
   "source": [
    "\n",
    "from sklearn.cross_validation import StratifiedKFold\n",
    "from sklearn.cross_validation import cross_val_score\n",
    "\n",
    "model = xgboost.XGBClassifier()\n",
    "kfold = StratifiedKFold(Y, n_folds=10, random_state=7)\n",
    "results = cross_val_score(model, X, Y, cv=kfold)\n",
    "print(\"Accuracy: %.2f%% (%.2f%%)\" % (results.mean()*100, results.std()*100))"
   ]
  },
  {
   "cell_type": "markdown",
   "metadata": {
    "collapsed": true
   },
   "source": [
    "### Weighted SVC"
   ]
  },
  {
   "cell_type": "code",
   "execution_count": 11,
   "metadata": {
    "collapsed": false
   },
   "outputs": [],
   "source": [
    "from imblearn.over_sampling import SMOTE\n",
    "from collections import Counter\n",
    "from imblearn.combine import SMOTETomek"
   ]
  },
  {
   "cell_type": "code",
   "execution_count": 17,
   "metadata": {
    "collapsed": false
   },
   "outputs": [
    {
     "name": "stderr",
     "output_type": "stream",
     "text": [
      "/home/rudolph/anaconda3/lib/python3.5/site-packages/sklearn/utils/class_weight.py:65: DeprecationWarning: The class_weight='auto' heuristic is deprecated in 0.17 in favor of a new heuristic class_weight='balanced'. 'auto' will be removed in 0.19\n",
      "  \" 0.19\", DeprecationWarning)\n"
     ]
    }
   ],
   "source": [
    "# 'SMOTE SVM'\n",
    "ratio = 'auto'\n",
    "svm_args={'class_weight': 'auto'}\n",
    "svmsmote = SMOTE(ratio=ratio, kind='svm', **svm_args)\n",
    "svsx, svsy = svmsmote.fit_sample(enc_train_data, train_target)"
   ]
  },
  {
   "cell_type": "code",
   "execution_count": 26,
   "metadata": {
    "collapsed": false
   },
   "outputs": [
    {
     "name": "stdout",
     "output_type": "stream",
     "text": [
      "AUC : 1\n"
     ]
    }
   ],
   "source": [
    "xgb_best_params(svsx, svsy)"
   ]
  },
  {
   "cell_type": "code",
   "execution_count": null,
   "metadata": {
    "collapsed": false
   },
   "outputs": [
    {
     "name": "stdout",
     "output_type": "stream",
     "text": [
      "GridSeachCV proceeding...\n",
      "Fitting 5 folds for each of 10 candidates, totalling 50 fits\n",
      "[CV] n_estimators=100, learning_rate=0.1 .............................\n",
      "[CV] n_estimators=100, learning_rate=0.1 .............................\n",
      "[CV] n_estimators=100, learning_rate=0.1 .............................\n"
     ]
    }
   ],
   "source": [
    "xgb_grid_search(svsx, svsy)"
   ]
  },
  {
   "cell_type": "code",
   "execution_count": null,
   "metadata": {
    "collapsed": false
   },
   "outputs": [],
   "source": []
  },
  {
   "cell_type": "code",
   "execution_count": null,
   "metadata": {
    "collapsed": false
   },
   "outputs": [],
   "source": []
  },
  {
   "cell_type": "code",
   "execution_count": null,
   "metadata": {
    "collapsed": true
   },
   "outputs": [],
   "source": []
  }
 ],
 "metadata": {
  "anaconda-cloud": {},
  "kernelspec": {
   "display_name": "Python [Root]",
   "language": "python",
   "name": "Python [Root]"
  },
  "language_info": {
   "codemirror_mode": {
    "name": "ipython",
    "version": 3
   },
   "file_extension": ".py",
   "mimetype": "text/x-python",
   "name": "python",
   "nbconvert_exporter": "python",
   "pygments_lexer": "ipython3",
   "version": "3.5.2"
  }
 },
 "nbformat": 4,
 "nbformat_minor": 0
}
